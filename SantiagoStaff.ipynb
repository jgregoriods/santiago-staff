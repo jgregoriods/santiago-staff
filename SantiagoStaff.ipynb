{
 "cells": [
  {
   "cell_type": "code",
   "execution_count": 1,
   "id": "20a9c640",
   "metadata": {},
   "outputs": [],
   "source": [
    "from nltk.lm.preprocessing import pad_both_ends\n",
    "from nltk.collocations import BigramAssocMeasures, BigramCollocationFinder, TrigramAssocMeasures, TrigramCollocationFinder\n",
    "from sklearn.feature_extraction.text import CountVectorizer, TfidfVectorizer\n",
    "from cosine_cost import CosineCost, plot_breakpoints, find_optimnal_bkps\n",
    "from discourse import plot_discourse, glyph_bound\n",
    "from horley_encoding import convert_to_horley\n",
    "\n",
    "import numpy as np\n",
    "import os\n",
    "import re"
   ]
  },
  {
   "cell_type": "code",
   "execution_count": 2,
   "id": "e6da7b38",
   "metadata": {},
   "outputs": [],
   "source": [
    "# Read and preprocess data\n",
    "\n",
    "with open('data/I.csv', 'r') as file:\n",
    "    raw_data_I = [line.split(',')[1][:-1] for line in file.readlines()]\n",
    "\n",
    "# We remove glyph 999 (separator)\n",
    "clean_lines_I = [line.replace('999', '').replace('.076.', '.076-').split('-') for line in raw_data_I]\n",
    "\n",
    "encoded_lines_I = [[convert_to_horley(glyph) for glyph in line] for line in clean_lines_I]"
   ]
  },
  {
   "cell_type": "code",
   "execution_count": 3,
   "id": "8013c242",
   "metadata": {},
   "outputs": [],
   "source": [
    "# Automatic extraction of the triads by splitting\n",
    "# whenever we find glyph 076 as an appendage\n",
    "\n",
    "sequences_I = []\n",
    "\n",
    "for line in encoded_lines_I:\n",
    "    i = 0\n",
    "    j = 1\n",
    "    while j < len(line):\n",
    "        if line[j][-3:] == '.76':\n",
    "            sequences_I.append(line[i:j])\n",
    "            i = j\n",
    "        j += 1\n",
    "\n",
    "# We will add a special token to represent glyph 076\n",
    "# when appended to the first glyph of the triad\n",
    "\n",
    "for i in range(len(sequences_I)):\n",
    "    sequences_I[i][0] = sequences_I[i][0][:-3]\n",
    "    sequences_I[i].insert(1, '<76>')\n",
    "\n",
    "sequences_I = [sequence for sequence in sequences_I if len(sequence) >= 4 and sequence[0] and '?' not in sequence]"
   ]
  },
  {
   "cell_type": "code",
   "execution_count": 4,
   "id": "48fffdc8",
   "metadata": {},
   "outputs": [
    {
     "data": {
      "text/plain": [
       "[(('600.6', '<76>'), 73.62570510357443),\n",
       " (('90', '<76>'), 57.80269539833187),\n",
       " (('430', '<76>'), 44.05812049300546),\n",
       " (('90.21', '<76>'), 15.028412204819983),\n",
       " (('1v', '<76>'), 14.286277582565102),\n",
       " (('99', '<76>'), 12.10248546341244),\n",
       " (('700', '<76>'), 12.064668887264476),\n",
       " (('451', '<76>'), 11.693029235969725),\n",
       " (('290.6', '<76>'), 11.263019998192085),\n",
       " (('633', '<76>'), 11.081302101755409)]"
      ]
     },
     "execution_count": 4,
     "metadata": {},
     "output_type": "execute_result"
    }
   ],
   "source": [
    "# Glyphs that most likely precede 076\n",
    "padded = [list(pad_both_ends(sequence, 2)) for sequence in sequences_I]\n",
    "bigram_measures = BigramAssocMeasures()\n",
    "finder = BigramCollocationFinder.from_documents(padded)\n",
    "finder.apply_freq_filter(2)\n",
    "finder.apply_ngram_filter(lambda *w: w[1] != '<76>' or w[0] == '?')\n",
    "finder.score_ngrams(bigram_measures.likelihood_ratio)[:10]"
   ]
  },
  {
   "cell_type": "code",
   "execution_count": 5,
   "id": "95946f66",
   "metadata": {},
   "outputs": [
    {
     "data": {
      "text/plain": [
       "[(('<76>', '11'), 45.31012035527205),\n",
       " (('<76>', '532'), 38.77190824754203),\n",
       " (('<76>', '71'), 38.41887028612969),\n",
       " (('<76>', '70'), 29.654301860701956),\n",
       " (('<76>', '10.79f'), 26.358038520561486),\n",
       " (('<76>', '4f'), 24.192595897186127),\n",
       " (('<76>', '75'), 17.16204074968214),\n",
       " (('<76>', '2a.10'), 15.700148271227683),\n",
       " (('<76>', '11.2a'), 11.263019998192085),\n",
       " (('<76>', '57'), 11.263019998192085)]"
      ]
     },
     "execution_count": 5,
     "metadata": {},
     "output_type": "execute_result"
    }
   ],
   "source": [
    "# Glyphs that most likely follow 076\n",
    "finder = BigramCollocationFinder.from_documents(padded)\n",
    "finder.apply_freq_filter(2)\n",
    "finder.apply_ngram_filter(lambda *w: w[0] != '<76>')\n",
    "finder.score_ngrams(bigram_measures.likelihood_ratio)[:10]"
   ]
  },
  {
   "cell_type": "code",
   "execution_count": 6,
   "id": "20c1856e",
   "metadata": {},
   "outputs": [
    {
     "data": {
      "text/plain": [
       "[(('600', '</s>'), 33.30736955146091),\n",
       " (('90', '</s>'), 17.49066097925927),\n",
       " (('59', '</s>'), 11.081302101755409),\n",
       " (('200.10', '</s>'), 8.24948085557606),\n",
       " (('27', '</s>'), 8.24948085557606),\n",
       " (('670', '</s>'), 7.9096517910893365),\n",
       " (('290.2a', '</s>'), 7.503167734931839),\n",
       " (('40.290', '</s>'), 7.503167734931839),\n",
       " (('513', '</s>'), 7.503167734931839),\n",
       " (('59.6', '</s>'), 7.503167734931839)]"
      ]
     },
     "execution_count": 6,
     "metadata": {},
     "output_type": "execute_result"
    }
   ],
   "source": [
    "# Glyphs that most likely occur as the final\n",
    "# element in the sequence\n",
    "finder = BigramCollocationFinder.from_documents(padded)\n",
    "finder.apply_freq_filter(2)\n",
    "finder.apply_ngram_filter(lambda *w: w[1] != '</s>')\n",
    "finder.score_ngrams(bigram_measures.likelihood_ratio)[:10]"
   ]
  },
  {
   "cell_type": "code",
   "execution_count": 7,
   "id": "d92670f9",
   "metadata": {},
   "outputs": [
    {
     "data": {
      "text/plain": [
       "[(('600.6', '<76>', '532'), 114.08885469993936),\n",
       " (('600.6', '<76>', '70'), 105.73235973666979),\n",
       " (('90', '<76>', '11'), 103.93829026685017),\n",
       " (('90', '<76>', '71'), 97.5458282225089),\n",
       " (('90', '<76>', '70'), 96.77084572730749),\n",
       " (('600.6', '<76>', '71.61'), 91.50854903383879),\n",
       " (('600.6', '<76>', '600'), 85.5307460601365),\n",
       " (('430', '<76>', '532'), 83.40717449315693),\n",
       " (('90', '<76>', '2a.10'), 77.00420911780677),\n",
       " (('90', '<76>', '57'), 74.40213780403602),\n",
       " (('90', '<76>', '5'), 65.68288604817322),\n",
       " (('28', '<76>', '11'), 64.64593252962699),\n",
       " (('90', '<76>', '700'), 61.032900152803904),\n",
       " (('200.10', '<76>', '71'), 58.79413433922902),\n",
       " (('1v', '<76>', '71'), 57.961508724467116),\n",
       " (('430', '<76>', '770.53'), 56.2375500069417),\n",
       " (('430', '<76>', '55'), 56.201399840692076),\n",
       " (('99', '<76>', '532'), 55.285452460508324),\n",
       " (('99', '<76>', '71'), 53.92920667491693),\n",
       " (('381.6', '<76>', '11'), 53.76157544215701),\n",
       " (('430', '<76>', '48f'), 53.698773360488445),\n",
       " (('430', '<76>', '5'), 53.538917058952464),\n",
       " (('700', '<76>', '71'), 51.796911358551114),\n",
       " (('430', '<76>', '1v'), 50.85310547093461),\n",
       " (('71', '<76>', '10.79f'), 48.21696636866014),\n",
       " (('90.21', '<76>', '87'), 46.27428571791798),\n",
       " (('755', '<76>', '75'), 45.654557408337),\n",
       " (('721', '<76>', '70'), 44.662409978321016),\n",
       " (('67', '<76>', '4f'), 43.36005139734196),\n",
       " (('72', '<76>', '10.79f'), 43.24915683302588),\n",
       " (('451', '<76>', '4f'), 42.86519388583169),\n",
       " (('381.63', '<76>', '280'), 31.9455006366045),\n",
       " (('53', '<76>', '2a.10'), 31.534626108778493),\n",
       " (('633', '<76>', '600.?'), 29.701506910231387),\n",
       " (('1v', '<76>', '69'), 27.974314318490954),\n",
       " (('27', '<76>', '95'), 27.880943758502735),\n",
       " (('70', '<76>', '2a.10'), 26.7831928716527),\n",
       " (('200', '<76>', '11.2a'), 26.651670049667487),\n",
       " (('700', '<76>', '721.6'), 25.309574613202372),\n",
       " (('1v', '<76>', '200'), 25.273806223264906),\n",
       " (('23', '<76>', '760'), 24.69720494041146)]"
      ]
     },
     "execution_count": 7,
     "metadata": {},
     "output_type": "execute_result"
    }
   ],
   "source": [
    "trigram_measures = TrigramAssocMeasures()\n",
    "\n",
    "# Now, let's check for the most likely combinations\n",
    "# of the first (preceding) and second (following 76) glyphs\n",
    "finder = TrigramCollocationFinder.from_documents(padded)\n",
    "finder.apply_freq_filter(2)\n",
    "finder.apply_ngram_filter(lambda *w: w[1] != '<76>')\n",
    "finder.score_ngrams(trigram_measures.likelihood_ratio)"
   ]
  },
  {
   "cell_type": "code",
   "execution_count": 8,
   "id": "724bf2c9",
   "metadata": {},
   "outputs": [],
   "source": [
    "line_str_I = [' '.join(line) for line in encoded_lines_I]\n",
    "\n",
    "vectorizer = TfidfVectorizer(analyzer=\"word\", token_pattern = '[0-9]+[a-zAZ]*[.0-9]*[a-zAZ]*')\n",
    "vectorized_text = vectorizer.fit_transform(line_str_I)"
   ]
  },
  {
   "cell_type": "code",
   "execution_count": 9,
   "id": "d9b3e468",
   "metadata": {},
   "outputs": [
    {
     "name": "stdout",
     "output_type": "stream",
     "text": [
      "Could not run the algorithm for n_bkps=7\n",
      "Could not run the algorithm for n_bkps=8\n",
      "Could not run the algorithm for n_bkps=9\n",
      "Could not run the algorithm for n_bkps=10\n"
     ]
    }
   ],
   "source": [
    "n_bkpts = find_optimnal_bkps(vectorized_text, list(range(1,11)))"
   ]
  },
  {
   "cell_type": "code",
   "execution_count": 10,
   "id": "e6c1536b",
   "metadata": {},
   "outputs": [
    {
     "data": {
      "image/png": "[encoded data removed]",
      "text/plain": [
       "<Figure size 288x288 with 1 Axes>"
      ]
     },
     "metadata": {
      "needs_background": "light"
     },
     "output_type": "display_data"
    }
   ],
   "source": [
    "bkpts = plot_breakpoints(vectorized_text, n_bkpts)"
   ]
  },
  {
   "cell_type": "code",
   "execution_count": 11,
   "id": "66ceb0a4",
   "metadata": {},
   "outputs": [
    {
     "name": "stdout",
     "output_type": "stream",
     "text": [
      "['270' '430' '200.6.76' '700.76' '755.76' '76']\n",
      "['55' '200.10.76' '90.76' '11' '71' '76']\n"
     ]
    }
   ],
   "source": [
    "# Most distinctive glyphs for each segment\n",
    "\n",
    "feature_names = vectorizer.get_feature_names_out()\n",
    "X = vectorized_text.toarray()\n",
    "\n",
    "indices = [0] + bkpts\n",
    "for i in range(len(indices) - 1):\n",
    "    best_features = np.argmax(X[indices[i]:indices[i+1],:], axis=1)\n",
    "    print(feature_names[list(set(best_features))])"
   ]
  },
  {
   "cell_type": "code",
   "execution_count": 12,
   "id": "6ef5e9c4",
   "metadata": {},
   "outputs": [],
   "source": [
    "full_text = []\n",
    "for line in encoded_lines_I:\n",
    "    full_text.extend(line)"
   ]
  },
  {
   "cell_type": "code",
   "execution_count": 13,
   "id": "6eb29067",
   "metadata": {},
   "outputs": [],
   "source": [
    "sel_glyphs = {}\n",
    "\n",
    "for glyph in set(full_text):\n",
    "    if '?' not in glyph and full_text.count(glyph) > 3:\n",
    "        bounds = glyph_bound(glyph, encoded_lines_I)\n",
    "        if bounds[1] < 6 or bounds[0] >= 6:\n",
    "            sel_glyphs[glyph] = bounds\n",
    "\n",
    "sel_glyphs_ordered = sorted(sel_glyphs.keys(), key=lambda x: sel_glyphs[x][0])"
   ]
  },
  {
   "cell_type": "code",
   "execution_count": 14,
   "id": "be2dee0d",
   "metadata": {
    "scrolled": true
   },
   "outputs": [
    {
     "data": {
      "image/png": "[encoded data removed]",
      "text/plain": [
       "<Figure size 432x288 with 1 Axes>"
      ]
     },
     "metadata": {
      "needs_background": "light"
     },
     "output_type": "display_data"
    }
   ],
   "source": [
    "# Distribution of glyphs that appear exclusively\n",
    "# in the first or second halves\n",
    "\n",
    "plot_discourse(sel_glyphs_ordered, full_text)"
   ]
  },
  {
   "cell_type": "code",
   "execution_count": 15,
   "id": "bb8b89cd",
   "metadata": {},
   "outputs": [],
   "source": [
    "common_trigrams = finder.score_ngrams(trigram_measures.likelihood_ratio)"
   ]
  },
  {
   "cell_type": "code",
   "execution_count": 16,
   "id": "5f66319f",
   "metadata": {},
   "outputs": [],
   "source": [
    "xy_I = [(trigram[0][0], trigram[0][2]) for trigram in common_trigrams]"
   ]
  },
  {
   "cell_type": "code",
   "execution_count": 17,
   "id": "c706e702",
   "metadata": {},
   "outputs": [],
   "source": [
    "all_texts = {}\n",
    "\n",
    "filenames = os.listdir(\"data/raw_texts/\")\n",
    "for filename in filenames:\n",
    "    with open(f\"data/raw_texts/{filename}\", \"r\") as file:\n",
    "        lines = file.readlines()\n",
    "        raw_text = [line.split(',')[1][:-1] for line in lines]\n",
    "        labels = [line.split(',')[0] for line in lines]\n",
    "        clean_lines = [line.split('-') for line in raw_text]\n",
    "        encoded_lines = [[convert_to_horley(glyph) for glyph in line] for line in clean_lines]\n",
    "        for label, encoded_line in zip(labels, encoded_lines):\n",
    "            all_texts[label] = ' '.join(encoded_line)"
   ]
  },
  {
   "cell_type": "code",
   "execution_count": 18,
   "id": "e61888a6",
   "metadata": {
    "scrolled": true
   },
   "outputs": [
    {
     "name": "stdout",
     "output_type": "stream",
     "text": [
      "Pr7 ('600.6', '600')\n",
      "Pr7 ('27', '95')\n",
      "Pr8 ('600.6', '600')\n",
      "Pv1 ('90', '5')\n",
      "Pv7 ('430', '48f')\n",
      "Qr7 ('600.6', '600')\n",
      "Qr7 ('200.10', '71')\n",
      "Qr7 ('27', '95')\n",
      "Qv2 ('90', '5')\n",
      "Hr7 ('600.6', '600')\n",
      "Hr7 ('27', '95')\n",
      "Hr11 ('90', '5')\n",
      "Er7 ('430', '5')\n",
      "Ev2 ('90', '71')\n",
      "Sb8 ('90', '70')\n",
      "Ab3 ('430', '5')\n",
      "Cb2 ('600.6', '600')\n",
      "Aa2 ('90', '11')\n",
      "Aa2 ('90', '70')\n",
      "Aa2 ('27', '95')\n",
      "Aa5 ('200', '11.2a')\n",
      "Aa8 ('381.6', '11')\n"
     ]
    }
   ],
   "source": [
    "for line in all_texts:\n",
    "    for pair in xy_I:\n",
    "        pattern = fr\"\\b{'(.)'.join(pair)}\\b\"\n",
    "        matches = re.findall(pattern, all_texts[line])\n",
    "        if matches:\n",
    "            print(line, pair)"
   ]
  }
 ],
 "metadata": {
  "kernelspec": {
   "display_name": "Python 3 (ipykernel)",
   "language": "python",
   "name": "python3"
  },
  "language_info": {
   "codemirror_mode": {
    "name": "ipython",
    "version": 3
   },
   "file_extension": ".py",
   "mimetype": "text/x-python",
   "name": "python",
   "nbconvert_exporter": "python",
   "pygments_lexer": "ipython3",
   "version": "3.10.12"
  }
 },
 "nbformat": 4,
 "nbformat_minor": 5
}
