{
 "cells": [
  {
   "cell_type": "code",
   "execution_count": 1,
   "id": "dd18fe26",
   "metadata": {},
   "outputs": [],
   "source": [
    "import json\n",
    "import os\n",
    "\n",
    "from src.collocations import get_bigram_collocations, get_trigram_collocations, get_similar_glyphs\n",
    "from src.discourse import plot_discourse\n",
    "from src.nearest_neighbor import analyze_glyphs, glyph_bound\n",
    "from src.processing import load_file, clean_lines, encode_lines, process_sequences\n",
    "from src.search import search_glyphs\n",
    "from src.segmentation import vectorize, get_distinctive_glyphs, plot_breakpoints, segment_text"
   ]
  },
  {
   "cell_type": "markdown",
   "id": "c0ca2f72",
   "metadata": {},
   "source": [
    "# Text I (Santiago Staff)"
   ]
  },
  {
   "cell_type": "markdown",
   "id": "b51979d0",
   "metadata": {},
   "source": [
    "### Data processing"
   ]
  },
  {
   "cell_type": "code",
   "execution_count": 2,
   "id": "7f84719c",
   "metadata": {},
   "outputs": [],
   "source": [
    "# Read the data, reencode to Horley (2021)\n",
    "\n",
    "raw_I_data = load_file('data/I.csv')\n",
    "clean_I_data = clean_lines(raw_I_data)\n",
    "encoded_I_data = encode_lines(clean_I_data)\n",
    "\n",
    "raw_I_sequences = load_file('data/I_stanzas.txt')\n",
    "clean_I_sequences = clean_lines(raw_I_sequences)\n",
    "encoded_I_sequences = encode_lines(clean_I_sequences)\n",
    "\n",
    "_, sequences_I = process_sequences(encoded_I_sequences)"
   ]
  },
  {
   "cell_type": "markdown",
   "id": "44885bb6",
   "metadata": {},
   "source": [
    "### Glyph collocations"
   ]
  },
  {
   "cell_type": "code",
   "execution_count": 3,
   "id": "1d0eb70f",
   "metadata": {},
   "outputs": [
    {
     "data": {
      "text/plain": [
       "[(('90', '<76>'), 97.16250329356825),\n",
       " (('600.6', '<76>'), 78.25860208581875),\n",
       " (('430', '<76>'), 47.240107994726955),\n",
       " (('76', '<76>'), 30.104575598793048),\n",
       " (('4', '<76>'), 14.682566641271166),\n",
       " (('90.21', '<76>'), 14.682566641271166),\n",
       " (('99', '<76>'), 14.55035615840926),\n",
       " (('633', '<76>'), 13.739369108765693),\n",
       " (('700', '<76>'), 12.735363428309686),\n",
       " (('451', '<76>'), 12.367639882136633),\n",
       " (('<76>', '532'), 84.59978407410732),\n",
       " (('<76>', '11'), 53.994081532373),\n",
       " (('<76>', '71'), 50.553694142601785),\n",
       " (('<76>', '70'), 40.276386415974216),\n",
       " (('<76>', '4f'), 27.00166369979241),\n",
       " (('<76>', '75'), 26.963627647197843),\n",
       " (('<76>', '10.79f'), 25.734965560765367),\n",
       " (('<76>', '21.1'), 22.04695739188478),\n",
       " (('<76>', '57'), 18.362827861287688),\n",
       " (('<76>', '2a.10'), 17.705771214569516),\n",
       " (('600', '</s>'), 27.51142801881818),\n",
       " (('59', '</s>'), 15.52477702605022),\n",
       " (('76', '</s>'), 13.7241633757681),\n",
       " (('90', '</s>'), 11.58722187324404),\n",
       " (('2', '</s>'), 11.454007156238488),\n",
       " (('270.6', '</s>'), 10.67828723962365),\n",
       " (('200.10', '</s>'), 10.2681589136088),\n",
       " (('27', '</s>'), 9.01387550385464),\n",
       " (('700', '</s>'), 8.216405290485595),\n",
       " (('36', '</s>'), 7.333608063837252)]"
      ]
     },
     "execution_count": 3,
     "metadata": {},
     "output_type": "execute_result"
    }
   ],
   "source": [
    "# Most likely collocations respective to glyph 76\n",
    "\n",
    "bigrams_I = get_bigram_collocations(sequences_I)\n",
    "bigrams_I"
   ]
  },
  {
   "cell_type": "code",
   "execution_count": 4,
   "id": "780e9663",
   "metadata": {},
   "outputs": [
    {
     "data": {
      "text/plain": [
       "[(('90', '<76>'), 53),\n",
       " (('430', '<76>'), 27),\n",
       " (('600.6', '<76>'), 26),\n",
       " (('76', '<76>'), 26),\n",
       " (('700', '<76>'), 16),\n",
       " (('71', '<76>'), 14),\n",
       " (('2', '<76>'), 9),\n",
       " (('200.10', '<76>'), 9),\n",
       " (('1v', '<76>'), 9),\n",
       " (('451', '<76>'), 8),\n",
       " (('<76>', '71'), 33),\n",
       " (('<76>', '532'), 31),\n",
       " (('<76>', '70'), 21),\n",
       " (('<76>', '11'), 21),\n",
       " (('<76>', '600'), 17),\n",
       " (('<76>', '4f'), 11),\n",
       " (('<76>', '2a.10'), 10),\n",
       " (('<76>', '75'), 9),\n",
       " (('<76>', '21'), 8),\n",
       " (('<76>', '700'), 8),\n",
       " (('90', '</s>'), 26),\n",
       " (('600', '</s>'), 24),\n",
       " (('76', '</s>'), 20),\n",
       " (('700', '</s>'), 14),\n",
       " (('2', '</s>'), 12),\n",
       " (('200.10', '</s>'), 9),\n",
       " (('59', '</s>'), 8),\n",
       " (('27', '</s>'), 8),\n",
       " (('430', '</s>'), 8),\n",
       " (('670', '</s>'), 7)]"
      ]
     },
     "execution_count": 4,
     "metadata": {},
     "output_type": "execute_result"
    }
   ],
   "source": [
    "# Most frequent collocations respective to glyph 76\n",
    "\n",
    "bigrams_I_frequency = get_bigram_collocations(sequences_I, measure=\"frequency\")\n",
    "bigrams_I_frequency"
   ]
  },
  {
   "cell_type": "code",
   "execution_count": 5,
   "id": "6581240f",
   "metadata": {},
   "outputs": [
    {
     "data": {
      "text/plain": [
       "[(('90', '<76>', '532'), 183.0776021499619),\n",
       " (('600.6', '<76>', '532'), 165.16365641341076),\n",
       " (('90', '<76>', '11'), 151.3960287657734),\n",
       " (('90', '<76>', '71'), 148.75195880959916),\n",
       " (('90', '<76>', '70'), 144.70011222355433),\n",
       " (('90', '<76>', '21.1'), 135.63192129516526),\n",
       " (('430', '<76>', '532'), 134.0261436774235),\n",
       " (('600.6', '<76>', '70'), 123.15250771221541),\n",
       " (('90', '<76>', '57'), 118.07396680411725),\n",
       " (('90', '<76>', '2a.10'), 117.38610104718003)]"
      ]
     },
     "execution_count": 5,
     "metadata": {},
     "output_type": "execute_result"
    }
   ],
   "source": [
    "# Most likely associations of the first two stanza glyphs\n",
    "\n",
    "trigrams_I = get_trigram_collocations(sequences_I)\n",
    "trigrams_I"
   ]
  },
  {
   "cell_type": "code",
   "execution_count": 6,
   "id": "2668aafc",
   "metadata": {},
   "outputs": [
    {
     "data": {
      "text/plain": [
       "[(('90', '<76>', '70'), 7),\n",
       " (('755', '<76>', '75'), 5),\n",
       " (('90', '<76>', '21.1'), 5),\n",
       " (('90', '<76>', '71'), 5),\n",
       " (('430', '<76>', '532'), 4),\n",
       " (('600.6', '<76>', '70'), 4),\n",
       " (('71', '<76>', '10.79f'), 4),\n",
       " (('600.6', '<76>', '532'), 4),\n",
       " (('200.10', '<76>', '71'), 4),\n",
       " (('76', '<76>', '71'), 4)]"
      ]
     },
     "execution_count": 6,
     "metadata": {},
     "output_type": "execute_result"
    }
   ],
   "source": [
    "# Most frequent associations of the first two stanza glyphs\n",
    "\n",
    "trigrams_I_frequency = get_trigram_collocations(sequences_I, measure=\"frequency\")\n",
    "trigrams_I_frequency"
   ]
  },
  {
   "cell_type": "code",
   "execution_count": 7,
   "id": "4bcfc01d",
   "metadata": {},
   "outputs": [
    {
     "data": {
      "text/plain": [
       "{'XYX': 0.05, 'XXZ': 0.045454545454545456, 'XYY': 0.02727272727272727}"
      ]
     },
     "execution_count": 7,
     "metadata": {},
     "output_type": "execute_result"
    }
   ],
   "source": [
    "# Percentage of stanzas that show some repetition\n",
    "# of the same glyph in different positions\n",
    "\n",
    "_, percentages_I = get_similar_glyphs(sequences_I)\n",
    "percentages_I"
   ]
  },
  {
   "cell_type": "markdown",
   "id": "408ad5d9",
   "metadata": {},
   "source": [
    "### Text segmentation"
   ]
  },
  {
   "cell_type": "code",
   "execution_count": 8,
   "id": "2c2060fc",
   "metadata": {},
   "outputs": [
    {
     "data": {
      "image/png": "[encoded data removed]",
      "text/plain": [
       "<Figure size 432x288 with 2 Axes>"
      ]
     },
     "metadata": {
      "needs_background": "light"
     },
     "output_type": "display_data"
    }
   ],
   "source": [
    "# Vectorize the whole text using count vectorizer and\n",
    "# plot the segments based on cosine distance using one\n",
    "# and two breakpoints\n",
    "\n",
    "vectorized_text, _ = vectorize(encoded_I_data)\n",
    "bkpts = plot_breakpoints(vectorized_text, [1, 2])"
   ]
  },
  {
   "cell_type": "code",
   "execution_count": 9,
   "id": "827aff1e",
   "metadata": {},
   "outputs": [
    {
     "data": {
      "text/plain": [
       "[['600', '76', '430', '430.76', '90', '532', '90.76', '700.76', '75', '700'],\n",
       " ['90.76', '71', '11', '76', '532', '600.6.76', '600', '90', '70', '2a.10']]"
      ]
     },
     "execution_count": 9,
     "metadata": {},
     "output_type": "execute_result"
    }
   ],
   "source": [
    "# Most distinctive glyphs of each segment using TF-IDF\n",
    "\n",
    "segmented_text = segment_text(encoded_I_data, bkpts[0])\n",
    "distinctive_glyphs = get_distinctive_glyphs(segmented_text)\n",
    "distinctive_glyphs"
   ]
  },
  {
   "cell_type": "markdown",
   "id": "fad731e8",
   "metadata": {},
   "source": [
    "### Glyph distribution"
   ]
  },
  {
   "cell_type": "code",
   "execution_count": 10,
   "id": "c31484ee",
   "metadata": {},
   "outputs": [
    {
     "data": {
      "image/png": "[encoded data removed]",
      "text/plain": [
       "<Figure size 576x432 with 1 Axes>"
      ]
     },
     "metadata": {
      "needs_background": "light"
     },
     "output_type": "display_data"
    }
   ],
   "source": [
    "# Glyphs that show significant clustering in their distribution\n",
    "# within the text\n",
    "\n",
    "clustered_glyphs, _ = analyze_glyphs(encoded_I_data)\n",
    "plot_discourse(clustered_glyphs, encoded_I_data, bkpt=bkpts[0][0])"
   ]
  },
  {
   "cell_type": "code",
   "execution_count": 11,
   "id": "71246dfc",
   "metadata": {},
   "outputs": [
    {
     "data": {
      "image/png": "[encoded data removed]",
      "text/plain": [
       "<Figure size 576x360 with 1 Axes>"
      ]
     },
     "metadata": {
      "needs_background": "light"
     },
     "output_type": "display_data"
    }
   ],
   "source": [
    "# Distribution of the most likely/frequent associations between\n",
    "# the first two stanza glyphs\n",
    "\n",
    "trigrams_formatted = [[f'{trigram[0][0]}.76', trigram[0][2]] for trigram in trigrams_I]\n",
    "for trigram in trigrams_I_frequency:\n",
    "    if [f'{trigram[0][0]}.76', trigram[0][2]] not in trigrams_formatted:\n",
    "        trigrams_formatted.append([f'{trigram[0][0]}.76', trigram[0][2]])\n",
    "trigrams_sorted = sorted(trigrams_formatted, key=lambda x: glyph_bound(x, encoded_I_data))\n",
    "plot_discourse(trigrams_sorted, encoded_I_data, bkpt=bkpts[0][0], figsize=(8,5))"
   ]
  },
  {
   "cell_type": "markdown",
   "id": "d4089197",
   "metadata": {},
   "source": [
    "### Matches outside of text I"
   ]
  },
  {
   "cell_type": "code",
   "execution_count": 12,
   "id": "b5623a7a",
   "metadata": {},
   "outputs": [
    {
     "data": {
      "text/plain": [
       "{'381.6 11': ['Aa8'],\n",
       " '600.6 600': ['Cb2'],\n",
       " '90 11': ['Aa2'],\n",
       " '430 5': ['Ab3'],\n",
       " '430 48f': ['Pv7'],\n",
       " '90 5': ['Pv1', 'Qv2', 'Hr11'],\n",
       " '90 71': ['Ev2'],\n",
       " '90 70': ['Sb8', 'Aa2'],\n",
       " '700 381': ['Qr6', 'Er8'],\n",
       " '9 2': ['Sb8']}"
      ]
     },
     "execution_count": 12,
     "metadata": {},
     "output_type": "execute_result"
    }
   ],
   "source": [
    "# Search the corpus for combinations of the first two stanza glyphs\n",
    "# occuring more than once\n",
    "\n",
    "XY = [(seq[0], seq[2]) for seq in sequences_I if '?' not in seq[0] and '?' not in seq[2]]\n",
    "XY = [glyphs for glyphs in set(XY) if XY.count(glyphs) > 1]\n",
    "search_results = search_glyphs(XY)\n",
    "search_results"
   ]
  },
  {
   "cell_type": "markdown",
   "id": "1e66e94f",
   "metadata": {},
   "source": [
    "# Text Gv (verso of Small Santiago Tablet)"
   ]
  },
  {
   "cell_type": "markdown",
   "id": "5f41cb82",
   "metadata": {},
   "source": [
    "### Data processing"
   ]
  },
  {
   "cell_type": "code",
   "execution_count": 13,
   "id": "a2396e48",
   "metadata": {},
   "outputs": [],
   "source": [
    "raw_Gv_sequences = load_file('data/Gv_stanzas.txt')\n",
    "clean_Gv_sequences = clean_lines(raw_Gv_sequences)\n",
    "encoded_Gv_sequences = encode_lines(clean_Gv_sequences)\n",
    "_, sequences_Gv = process_sequences(encoded_Gv_sequences)"
   ]
  },
  {
   "cell_type": "markdown",
   "id": "a9dbdb18",
   "metadata": {},
   "source": [
    "### Glyph collocations"
   ]
  },
  {
   "cell_type": "code",
   "execution_count": 14,
   "id": "25d47615",
   "metadata": {},
   "outputs": [
    {
     "data": {
      "text/plain": [
       "[(('430', '<76>'), 9.509051931396879),\n",
       " (('660', '<76>'), 8.219849002902622),\n",
       " (('226.62', '<76>'), 4.668338287757836),\n",
       " (('670', '<76>'), 4.668338287757836),\n",
       " (('5', '<76>'), 1.6581776578573098),\n",
       " (('<76>', '200f'), 11.889009643209985),\n",
       " (('<76>', '290'), 8.219849002902622),\n",
       " (('<76>', '70'), 8.219849002902622),\n",
       " (('90f', '</s>'), 8.219849002902622),\n",
       " (('22', '</s>'), 6.195701346034667),\n",
       " (('59f', '</s>'), 4.668338287757836),\n",
       " (('32', '</s>'), 2.29554797272426),\n",
       " (('700', '</s>'), 1.192308858114244)]"
      ]
     },
     "execution_count": 14,
     "metadata": {},
     "output_type": "execute_result"
    }
   ],
   "source": [
    "# Most likely collocations respective to glyph 76\n",
    "\n",
    "bigrams_Gv = get_bigram_collocations(sequences_Gv)\n",
    "bigrams_Gv"
   ]
  },
  {
   "cell_type": "code",
   "execution_count": 15,
   "id": "409870a4",
   "metadata": {},
   "outputs": [
    {
     "data": {
      "text/plain": [
       "{'XYX': 0.16216216216216217,\n",
       " 'XXZ': 0.10810810810810811,\n",
       " 'XYY': 0.16216216216216217}"
      ]
     },
     "execution_count": 15,
     "metadata": {},
     "output_type": "execute_result"
    }
   ],
   "source": [
    "# Percentage of stanzas that show some repetition\n",
    "# of the same glyph in different positions\n",
    "\n",
    "_, percentages_Gv = get_similar_glyphs(sequences_Gv)\n",
    "percentages_Gv"
   ]
  },
  {
   "cell_type": "markdown",
   "id": "3dd0cd72",
   "metadata": {},
   "source": [
    "# Text T (Honolulu Tablet)"
   ]
  },
  {
   "cell_type": "markdown",
   "id": "d8d7c7cb",
   "metadata": {},
   "source": [
    "### Data processing"
   ]
  },
  {
   "cell_type": "code",
   "execution_count": 16,
   "id": "503b6793",
   "metadata": {},
   "outputs": [],
   "source": [
    "raw_T_sequences = load_file('data/T_stanzas.txt')\n",
    "clean_T_sequences = clean_lines(raw_T_sequences)\n",
    "encoded_T_sequences = encode_lines(clean_T_sequences)\n",
    "_, sequences_T = process_sequences(encoded_T_sequences)"
   ]
  },
  {
   "cell_type": "markdown",
   "id": "fac338d6",
   "metadata": {},
   "source": [
    "### Glyph collocations"
   ]
  },
  {
   "cell_type": "code",
   "execution_count": 17,
   "id": "f945678e",
   "metadata": {},
   "outputs": [
    {
     "data": {
      "text/plain": [
       "[(('90', '<76>'), 5.757255155656027),\n",
       " (('430', '<76>'), 2.0237729037633523),\n",
       " (('<76>', '532'), 11.92949980349836),\n",
       " (('<76>', '71'), 2.9151918017401512),\n",
       " (('<76>', '430'), 2.0237729037633523),\n",
       " (('<76>', '70'), 2.0237729037633523),\n",
       " (('76', '</s>'), 4.349628257474901)]"
      ]
     },
     "execution_count": 17,
     "metadata": {},
     "output_type": "execute_result"
    }
   ],
   "source": [
    "# Most likely collocations respective to glyph 76\n",
    "\n",
    "bigrams_T = get_bigram_collocations(sequences_T)\n",
    "bigrams_T"
   ]
  }
 ],
 "metadata": {
  "kernelspec": {
   "display_name": "Python 3 (ipykernel)",
   "language": "python",
   "name": "python3"
  },
  "language_info": {
   "codemirror_mode": {
    "name": "ipython",
    "version": 3
   },
   "file_extension": ".py",
   "mimetype": "text/x-python",
   "name": "python",
   "nbconvert_exporter": "python",
   "pygments_lexer": "ipython3",
   "version": "3.10.12"
  }
 },
 "nbformat": 4,
 "nbformat_minor": 5
}
