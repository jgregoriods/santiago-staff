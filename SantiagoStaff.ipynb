{
 "cells": [
  {
   "cell_type": "code",
   "execution_count": 65,
   "id": "20a9c640",
   "metadata": {},
   "outputs": [],
   "source": [
    "from nltk.lm.preprocessing import pad_both_ends\n",
    "from nltk.collocations import BigramAssocMeasures, BigramCollocationFinder\n",
    "from sklearn.feature_extraction.text import CountVectorizer, TfidfVectorizer\n",
    "from cosine_cost import CosineCost, plot_breakpoints\n",
    "from discourse import plot_discourse, glyph_bound\n",
    "\n",
    "import numpy as np"
   ]
  },
  {
   "cell_type": "code",
   "execution_count": 2,
   "id": "e6da7b38",
   "metadata": {},
   "outputs": [],
   "source": [
    "# Read and preprocess data\n",
    "\n",
    "with open('data/I.csv', 'r') as file:\n",
    "    raw_data_I = [line.split(',')[1][:-1] for line in file.readlines()]\n",
    "\n",
    "# We remove glyph 999 (separator)\n",
    "\n",
    "clean_lines_I = [line.split('-') for line in raw_data_I]"
   ]
  },
  {
   "cell_type": "code",
   "execution_count": 3,
   "id": "8013c242",
   "metadata": {},
   "outputs": [],
   "source": [
    "# Automatic extraction of the triads by splitting\n",
    "# whenever we find glyph 076 as an appendage\n",
    "\n",
    "sequences_I = []\n",
    "\n",
    "for line in clean_lines_I:\n",
    "    i = 0\n",
    "    j = 1\n",
    "    while j < len(line):\n",
    "        if line[j][-4:] == '.076':\n",
    "            sequences_I.append(line[i:j])\n",
    "            i = j\n",
    "        j += 1\n",
    "\n",
    "# We will add a special token to represent glyph 076\n",
    "# when appended to the first glyph of the triad\n",
    "\n",
    "for i in range(len(sequences_I)):\n",
    "    sequences_I[i][0] = sequences_I[i][0][:-4]\n",
    "    sequences_I[i].insert(1, '<076>')\n",
    "\n",
    "sequences_I = [sequence for sequence in sequences_I if len(sequence) >= 3]"
   ]
  },
  {
   "cell_type": "code",
   "execution_count": 4,
   "id": "48fffdc8",
   "metadata": {},
   "outputs": [
    {
     "data": {
      "text/plain": [
       "[(('090', '<076>'), 104.18249202546576),\n",
       " (('430', '<076>'), 60.726069948803506),\n",
       " (('606', '<076>'), 39.68969095216505),\n",
       " (('604', '<076>'), 34.77099326590314),\n",
       " (('202', '<076>'), 19.277930691171235),\n",
       " (('700', '<076>'), 16.288739808273256),\n",
       " (('021:090', '<076>'), 15.414521408641146),\n",
       " (('633', '<076>'), 14.183995862849276),\n",
       " (('099', '<076>'), 13.842502707586984),\n",
       " (('', '<076>'), 11.555033950089154)]"
      ]
     },
     "execution_count": 4,
     "metadata": {},
     "output_type": "execute_result"
    }
   ],
   "source": [
    "# Glyphs that most likely precede 076\n",
    "padded = [list(pad_both_ends(sequence, 2)) for sequence in sequences_I]\n",
    "bigram_measures = BigramAssocMeasures()\n",
    "finder = BigramCollocationFinder.from_documents(padded)\n",
    "finder.apply_freq_filter(2)\n",
    "finder.apply_ngram_filter(lambda *w: w[1] != '<076>')\n",
    "finder.score_ngrams(bigram_measures.likelihood_ratio)[:10]"
   ]
  },
  {
   "cell_type": "code",
   "execution_count": 5,
   "id": "95946f66",
   "metadata": {},
   "outputs": [
    {
     "data": {
      "text/plain": [
       "[(('<076>', '011'), 54.84465022137523),\n",
       " (('<076>', '070'), 41.35367396741711),\n",
       " (('<076>', '071'), 32.06708834490003),\n",
       " (('<076>', '532a'), 31.996642416094524),\n",
       " (('<076>', '530'), 27.8431202504172),\n",
       " (('<076>', '057'), 23.145272121484666),\n",
       " (('<076>', '010.079f'), 21.29970139015016),\n",
       " (('<076>', '020.010'), 20.648335024578703),\n",
       " (('<076>', '004f?'), 18.933576674843927),\n",
       " (('<076>', '006'), 18.07360498274752)]"
      ]
     },
     "execution_count": 5,
     "metadata": {},
     "output_type": "execute_result"
    }
   ],
   "source": [
    "# Glyphs that most likely follow 076\n",
    "finder = BigramCollocationFinder.from_documents(padded)\n",
    "finder.apply_freq_filter(2)\n",
    "finder.apply_ngram_filter(lambda *w: w[0] != '<076>')\n",
    "finder.score_ngrams(bigram_measures.likelihood_ratio)[:10]"
   ]
  },
  {
   "cell_type": "code",
   "execution_count": 6,
   "id": "724bf2c9",
   "metadata": {},
   "outputs": [],
   "source": [
    "vectorizer = CountVectorizer(analyzer=\"word\", token_pattern = '[0-9]+[a-zAZ]*[.0-9]*[a-zAZ]*')\n",
    "vectorized_text = vectorizer.fit_transform([' '.join(line) for line in clean_lines_I])"
   ]
  },
  {
   "cell_type": "code",
   "execution_count": 33,
   "id": "e6c1536b",
   "metadata": {},
   "outputs": [
    {
     "name": "stdout",
     "output_type": "stream",
     "text": [
      "[6, 14]\n"
     ]
    },
    {
     "data": {
      "text/plain": [
       "(<Figure size 288x288 with 1 Axes>, <AxesSubplot:>)"
      ]
     },
     "execution_count": 33,
     "metadata": {},
     "output_type": "execute_result"
    },
    {
     "data": {
      "image/png": "[encoded data removed]",
      "text/plain": [
       "<Figure size 288x288 with 1 Axes>"
      ]
     },
     "metadata": {
      "needs_background": "light"
     },
     "output_type": "display_data"
    }
   ],
   "source": [
    "plot_breakpoints(vectorized_text, 1)"
   ]
  },
  {
   "cell_type": "code",
   "execution_count": 34,
   "id": "ccf2b97f",
   "metadata": {},
   "outputs": [],
   "source": [
    "tf_vectorizer = TfidfVectorizer(analyzer=\"word\", token_pattern = '[0-9]+[a-zAZ]*[.0-9]*[a-zAZ]*')\n",
    "tf_vectorized_text = tf_vectorizer.fit_transform([' '.join(line) for line in clean_lines_I])"
   ]
  },
  {
   "cell_type": "code",
   "execution_count": 35,
   "id": "66ceb0a4",
   "metadata": {},
   "outputs": [
    {
     "data": {
      "text/plain": [
       "array(['600', '076', '999'], dtype=object)"
      ]
     },
     "execution_count": 35,
     "metadata": {},
     "output_type": "execute_result"
    }
   ],
   "source": [
    "# Most distinctive glyphs of lines 0-5\n",
    "tf_vectorizer.get_feature_names_out()[list(set(np.argmax(vectorized_text.toarray()[:6,:], axis=1)))]"
   ]
  },
  {
   "cell_type": "code",
   "execution_count": 36,
   "id": "06cbb153",
   "metadata": {},
   "outputs": [
    {
     "data": {
      "text/plain": [
       "array(['071', '076', '011', '090', '090.076', '999'], dtype=object)"
      ]
     },
     "execution_count": 36,
     "metadata": {},
     "output_type": "execute_result"
    }
   ],
   "source": [
    "# Most distinctive glyphs of lines 6-13\n",
    "tf_vectorizer.get_feature_names_out()[list(set(np.argmax(vectorized_text.toarray()[6:,:], axis=1)))]"
   ]
  },
  {
   "cell_type": "code",
   "execution_count": 37,
   "id": "6ef5e9c4",
   "metadata": {},
   "outputs": [],
   "source": [
    "full_text = []\n",
    "for line in clean_lines_I:\n",
    "    full_text.extend(line)"
   ]
  },
  {
   "cell_type": "code",
   "execution_count": null,
   "id": "6f45a6a9",
   "metadata": {},
   "outputs": [],
   "source": []
  },
  {
   "cell_type": "code",
   "execution_count": 62,
   "id": "6eb29067",
   "metadata": {},
   "outputs": [],
   "source": [
    "sel_glyphs = []\n",
    "\n",
    "for glyph in set(full_text):\n",
    "    if full_text.count(glyph) > 3:\n",
    "        bounds = glyph_bound(glyph, clean_lines_I)\n",
    "        if bounds[0] >= 6 or bounds[1] <= 6:\n",
    "            sel_glyphs.append(glyph)"
   ]
  },
  {
   "cell_type": "code",
   "execution_count": 64,
   "id": "be2dee0d",
   "metadata": {},
   "outputs": [
    {
     "data": {
      "image/png": "[encoded data removed]",
      "text/plain": [
       "<Figure size 432x288 with 1 Axes>"
      ]
     },
     "metadata": {
      "needs_background": "light"
     },
     "output_type": "display_data"
    }
   ],
   "source": [
    "# Distribution of glyphs that appear exclusively\n",
    "# in the first or second halves\n",
    "\n",
    "plot_discourse(sel_glyphs, full_text)"
   ]
  },
  {
   "cell_type": "code",
   "execution_count": null,
   "id": "965f779a",
   "metadata": {},
   "outputs": [],
   "source": []
  }
 ],
 "metadata": {
  "kernelspec": {
   "display_name": "Python 3 (ipykernel)",
   "language": "python",
   "name": "python3"
  },
  "language_info": {
   "codemirror_mode": {
    "name": "ipython",
    "version": 3
   },
   "file_extension": ".py",
   "mimetype": "text/x-python",
   "name": "python",
   "nbconvert_exporter": "python",
   "pygments_lexer": "ipython3",
   "version": "3.10.12"
  }
 },
 "nbformat": 4,
 "nbformat_minor": 5
}
