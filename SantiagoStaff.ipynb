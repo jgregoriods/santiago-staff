{
 "cells": [
  {
   "cell_type": "code",
   "execution_count": 1,
   "id": "dd18fe26",
   "metadata": {},
   "outputs": [],
   "source": [
    "import json\n",
    "import os\n",
    "\n",
    "from src.collocations import get_bigram_collocations, get_trigram_collocations, get_similar_glyphs\n",
    "from src.discourse import plot_discourse\n",
    "from src.nearest_neighbor import analyze_glyphs, glyph_bound\n",
    "from src.processing import load_file, clean_lines, encode_lines, process_sequences\n",
    "from src.segmentation import vectorize, get_distinctive_glyphs, plot_breakpoints, segment_text\n",
    "from src.names import clean_name, split_and_extract_name, count_names"
   ]
  },
  {
   "cell_type": "markdown",
   "id": "c0ca2f72",
   "metadata": {},
   "source": [
    "# Text I (Santiago Staff)"
   ]
  },
  {
   "cell_type": "markdown",
   "id": "b51979d0",
   "metadata": {},
   "source": [
    "### Data processing"
   ]
  },
  {
   "cell_type": "code",
   "execution_count": 2,
   "id": "7f84719c",
   "metadata": {},
   "outputs": [],
   "source": [
    "# Read the data, reencode to Horley (2021)\n",
    "\n",
    "raw_I_data = load_file('data/I.csv')\n",
    "clean_I_data = clean_lines(raw_I_data)\n",
    "encoded_I_data = encode_lines(clean_I_data)\n",
    "\n",
    "raw_I_sequences = load_file('data/I_stanzas.txt')\n",
    "clean_I_sequences = clean_lines(raw_I_sequences)\n",
    "encoded_I_sequences = encode_lines(clean_I_sequences)\n",
    "\n",
    "_, sequences_I = process_sequences(encoded_I_sequences)"
   ]
  },
  {
   "cell_type": "markdown",
   "id": "44885bb6",
   "metadata": {},
   "source": [
    "### Glyph collocations"
   ]
  },
  {
   "cell_type": "code",
   "execution_count": 3,
   "id": "1d0eb70f",
   "metadata": {},
   "outputs": [
    {
     "data": {
      "text/plain": [
       "[(('90', '<76>'), 96.95273896693904),\n",
       " (('600.6', '<76>'), 78.1467401469553),\n",
       " (('430', '<76>'), 47.134998658050804),\n",
       " (('76', '<76>'), 30.01360788124492),\n",
       " (('4', '<76>'), 14.66506116072188),\n",
       " (('90.21', '<76>'), 14.66506116072188),\n",
       " (('99', '<76>'), 14.522179672358547),\n",
       " (('633', '<76>'), 13.714753769828135),\n",
       " (('700', '<76>'), 12.685630030048351),\n",
       " (('451', '<76>'), 12.337549428169876),\n",
       " (('<76>', '532'), 98.83033024363316),\n",
       " (('<76>', '11'), 53.905906736199135),\n",
       " (('<76>', '71'), 50.429048865100846),\n",
       " (('<76>', '70'), 40.19305118190667),\n",
       " (('<76>', '4f'), 26.955917657422276),\n",
       " (('<76>', '75'), 26.92502543782149),\n",
       " (('<76>', '10.79f'), 25.704314190861183),\n",
       " (('<76>', '2a.10'), 22.314314842217726),\n",
       " (('<76>', '21.1'), 22.020689585427306),\n",
       " (('<76>', '57'), 18.340942017559446),\n",
       " (('600', '</s>'), 27.427752724922165),\n",
       " (('59', '</s>'), 15.493035237729373),\n",
       " (('76', '</s>'), 13.664885835900474),\n",
       " (('90', '</s>'), 11.520917386970488),\n",
       " (('2', '</s>'), 11.414553184070401),\n",
       " (('270.6', '</s>'), 10.658057066021225),\n",
       " (('200.10', '</s>'), 10.236976218319723),\n",
       " (('27', '</s>'), 8.986267020454022),\n",
       " (('700', '</s>'), 8.177207456498719),\n",
       " (('36', '</s>'), 7.324858515667228)]"
      ]
     },
     "execution_count": 3,
     "metadata": {},
     "output_type": "execute_result"
    }
   ],
   "source": [
    "# Most likely collocations respective to glyph 76\n",
    "\n",
    "bigrams_I = get_bigram_collocations(sequences_I)\n",
    "bigrams_I"
   ]
  },
  {
   "cell_type": "code",
   "execution_count": 4,
   "id": "780e9663",
   "metadata": {},
   "outputs": [
    {
     "data": {
      "text/plain": [
       "[(('90', '<76>'), 53),\n",
       " (('430', '<76>'), 27),\n",
       " (('600.6', '<76>'), 26),\n",
       " (('76', '<76>'), 26),\n",
       " (('700', '<76>'), 16),\n",
       " (('71', '<76>'), 14),\n",
       " (('2', '<76>'), 9),\n",
       " (('200.10', '<76>'), 9),\n",
       " (('1v', '<76>'), 9),\n",
       " (('451', '<76>'), 8),\n",
       " (('<76>', '532'), 33),\n",
       " (('<76>', '71'), 33),\n",
       " (('<76>', '70'), 21),\n",
       " (('<76>', '11'), 21),\n",
       " (('<76>', '600'), 17),\n",
       " (('<76>', '4f'), 11),\n",
       " (('<76>', '2a.10'), 11),\n",
       " (('<76>', '75'), 9),\n",
       " (('<76>', '700'), 8),\n",
       " (('<76>', '6'), 8),\n",
       " (('90', '</s>'), 26),\n",
       " (('600', '</s>'), 24),\n",
       " (('76', '</s>'), 20),\n",
       " (('700', '</s>'), 14),\n",
       " (('2', '</s>'), 12),\n",
       " (('200.10', '</s>'), 9),\n",
       " (('59', '</s>'), 8),\n",
       " (('27', '</s>'), 8),\n",
       " (('430', '</s>'), 8),\n",
       " (('670', '</s>'), 7)]"
      ]
     },
     "execution_count": 4,
     "metadata": {},
     "output_type": "execute_result"
    }
   ],
   "source": [
    "# Most frequent collocations respective to glyph 76\n",
    "\n",
    "bigrams_I_frequency = get_bigram_collocations(sequences_I, measure=\"frequency\")\n",
    "bigrams_I_frequency"
   ]
  },
  {
   "cell_type": "code",
   "execution_count": 5,
   "id": "6581240f",
   "metadata": {},
   "outputs": [
    {
     "data": {
      "text/plain": [
       "[(('90', '<76>', '532'), 197.31856697234593),\n",
       " (('600.6', '<76>', '532'), 178.9645462806453),\n",
       " (('90', '<76>', '11'), 151.09845723097362),\n",
       " (('90', '<76>', '71'), 148.4194784096327),\n",
       " (('430', '<76>', '532'), 147.81985734551728),\n",
       " (('90', '<76>', '70'), 144.4078234875203),\n",
       " (('90', '<76>', '21.1'), 135.3958891620795),\n",
       " (('76', '<76>', '532'), 128.94695580581538),\n",
       " (('600.6', '<76>', '70'), 122.9573855937634),\n",
       " (('90', '<76>', '2a.10'), 121.33110770750957)]"
      ]
     },
     "execution_count": 5,
     "metadata": {},
     "output_type": "execute_result"
    }
   ],
   "source": [
    "# Most likely associations of the first two stanza glyphs\n",
    "\n",
    "trigrams_I = get_trigram_collocations(sequences_I)\n",
    "trigrams_I"
   ]
  },
  {
   "cell_type": "code",
   "execution_count": 6,
   "id": "2668aafc",
   "metadata": {},
   "outputs": [
    {
     "data": {
      "text/plain": [
       "[(('90', '<76>', '70'), 7),\n",
       " (('755', '<76>', '75'), 5),\n",
       " (('90', '<76>', '21.1'), 5),\n",
       " (('90', '<76>', '71'), 5),\n",
       " (('430', '<76>', '532'), 4),\n",
       " (('600.6', '<76>', '70'), 4),\n",
       " (('71', '<76>', '10.79f'), 4),\n",
       " (('600.6', '<76>', '532'), 4),\n",
       " (('200.10', '<76>', '71'), 4),\n",
       " (('76', '<76>', '71'), 4)]"
      ]
     },
     "execution_count": 6,
     "metadata": {},
     "output_type": "execute_result"
    }
   ],
   "source": [
    "# Most frequent associations of the first two stanza glyphs\n",
    "\n",
    "trigrams_I_frequency = get_trigram_collocations(sequences_I, measure=\"frequency\")\n",
    "trigrams_I_frequency"
   ]
  },
  {
   "cell_type": "code",
   "execution_count": 7,
   "id": "4bcfc01d",
   "metadata": {},
   "outputs": [
    {
     "data": {
      "text/plain": [
       "{'XYX': 0.05, 'XXZ': 0.04318181818181818, 'XYY': 0.02727272727272727}"
      ]
     },
     "execution_count": 7,
     "metadata": {},
     "output_type": "execute_result"
    }
   ],
   "source": [
    "# Percentage of stanzas that show some repetition\n",
    "# of the same glyph in different positions\n",
    "\n",
    "_, percentages_I = get_similar_glyphs(sequences_I)\n",
    "percentages_I"
   ]
  },
  {
   "cell_type": "markdown",
   "id": "408ad5d9",
   "metadata": {},
   "source": [
    "### Text segmentation"
   ]
  },
  {
   "cell_type": "code",
   "execution_count": 8,
   "id": "2c2060fc",
   "metadata": {},
   "outputs": [
    {
     "name": "stderr",
     "output_type": "stream",
     "text": [
      "/home/jgregoriods/projects/santiago_staff/src/segmentation.py:116: UserWarning: This figure includes Axes that are not compatible with tight_layout, so results might be incorrect.\n",
      "  plt.tight_layout(rect=[0, 0, 0.85, 1])\n"
     ]
    },
    {
     "data": {
      "image/png": "[encoded data removed]",
      "text/plain": [
       "<Figure size 720x288 with 3 Axes>"
      ]
     },
     "metadata": {
      "needs_background": "light"
     },
     "output_type": "display_data"
    }
   ],
   "source": [
    "# Vectorize the whole text using count vectorizer and\n",
    "# plot the segments based on cosine distance using one\n",
    "# and two breakpoints\n",
    "\n",
    "vectorized_text, _ = vectorize(encoded_I_data)\n",
    "bkpts = plot_breakpoints(vectorized_text, [1, 2], save_path=\"figs/figure5.jpg\")"
   ]
  },
  {
   "cell_type": "code",
   "execution_count": 9,
   "id": "827aff1e",
   "metadata": {},
   "outputs": [
    {
     "data": {
      "text/plain": [
       "[['600', '76', '430', '430.76', '90', '532', '90.76', '700.76', '75', '700'],\n",
       " ['90.76', '71', '11', '76', '532', '600.6.76', '600', '90', '70', '2a.10']]"
      ]
     },
     "execution_count": 9,
     "metadata": {},
     "output_type": "execute_result"
    }
   ],
   "source": [
    "# Most distinctive glyphs of each segment using TF-IDF\n",
    "\n",
    "segmented_text = segment_text(encoded_I_data, bkpts[0])\n",
    "distinctive_glyphs = get_distinctive_glyphs(segmented_text)\n",
    "distinctive_glyphs"
   ]
  },
  {
   "cell_type": "markdown",
   "id": "fad731e8",
   "metadata": {},
   "source": [
    "### Glyph distribution"
   ]
  },
  {
   "cell_type": "code",
   "execution_count": 10,
   "id": "c31484ee",
   "metadata": {},
   "outputs": [
    {
     "data": {
      "image/png": "[encoded data removed]",
      "text/plain": [
       "<Figure size 576x432 with 1 Axes>"
      ]
     },
     "metadata": {
      "needs_background": "light"
     },
     "output_type": "display_data"
    }
   ],
   "source": [
    "# Glyphs that show significant clustering in their distribution\n",
    "# within the text\n",
    "\n",
    "clustered_glyphs, _ = analyze_glyphs(encoded_I_data)\n",
    "plot_discourse(clustered_glyphs, encoded_I_data, bkpt=bkpts[0][0], save_path=\"figs/figure4.jpg\")"
   ]
  },
  {
   "cell_type": "code",
   "execution_count": 11,
   "id": "71246dfc",
   "metadata": {},
   "outputs": [
    {
     "data": {
      "image/png": "[encoded data removed]",
      "text/plain": [
       "<Figure size 576x360 with 1 Axes>"
      ]
     },
     "metadata": {
      "needs_background": "light"
     },
     "output_type": "display_data"
    }
   ],
   "source": [
    "# Distribution of the most likely/frequent associations between\n",
    "# the first two stanza glyphs\n",
    "\n",
    "trigrams_formatted = [[f'{trigram[0][0]}.76', trigram[0][2]] for trigram in trigrams_I]\n",
    "for trigram in trigrams_I_frequency:\n",
    "    if [f'{trigram[0][0]}.76', trigram[0][2]] not in trigrams_formatted:\n",
    "        trigrams_formatted.append([f'{trigram[0][0]}.76', trigram[0][2]])\n",
    "trigrams_sorted = sorted(trigrams_formatted, key=lambda x: glyph_bound(x, encoded_I_data))\n",
    "plot_discourse(trigrams_sorted, encoded_I_data, bkpt=bkpts[0][0], figsize=(8,5), save_path=\"figs/figure6.jpg\")"
   ]
  },
  {
   "cell_type": "markdown",
   "id": "1e66e94f",
   "metadata": {},
   "source": [
    "# Text Gv (verso of Small Santiago Tablet)"
   ]
  },
  {
   "cell_type": "markdown",
   "id": "5f41cb82",
   "metadata": {},
   "source": [
    "### Data processing"
   ]
  },
  {
   "cell_type": "code",
   "execution_count": 12,
   "id": "a2396e48",
   "metadata": {},
   "outputs": [],
   "source": [
    "raw_Gv_sequences = load_file('data/Gv_stanzas.txt')\n",
    "clean_Gv_sequences = clean_lines(raw_Gv_sequences)\n",
    "encoded_Gv_sequences = encode_lines(clean_Gv_sequences)\n",
    "_, sequences_Gv = process_sequences(encoded_Gv_sequences)"
   ]
  },
  {
   "cell_type": "markdown",
   "id": "a9dbdb18",
   "metadata": {},
   "source": [
    "### Glyph collocations"
   ]
  },
  {
   "cell_type": "code",
   "execution_count": 13,
   "id": "25d47615",
   "metadata": {},
   "outputs": [
    {
     "data": {
      "text/plain": [
       "[(('430', '<76>'), 9.509051931396879),\n",
       " (('660', '<76>'), 8.219849002902622),\n",
       " (('226.62', '<76>'), 4.668338287757836),\n",
       " (('670', '<76>'), 4.668338287757836),\n",
       " (('5', '<76>'), 1.6581776578573098),\n",
       " (('<76>', '200f'), 11.889009643209985),\n",
       " (('<76>', '290'), 8.219849002902622),\n",
       " (('<76>', '70'), 8.219849002902622),\n",
       " (('90f', '</s>'), 8.219849002902622),\n",
       " (('22', '</s>'), 6.195701346034667),\n",
       " (('59f', '</s>'), 4.668338287757836),\n",
       " (('32', '</s>'), 2.29554797272426),\n",
       " (('700', '</s>'), 1.192308858114244)]"
      ]
     },
     "execution_count": 13,
     "metadata": {},
     "output_type": "execute_result"
    }
   ],
   "source": [
    "# Most likely collocations respective to glyph 76\n",
    "\n",
    "bigrams_Gv = get_bigram_collocations(sequences_Gv)\n",
    "bigrams_Gv"
   ]
  },
  {
   "cell_type": "code",
   "execution_count": 14,
   "id": "409870a4",
   "metadata": {},
   "outputs": [
    {
     "data": {
      "text/plain": [
       "{'XYX': 0.16216216216216217,\n",
       " 'XXZ': 0.10810810810810811,\n",
       " 'XYY': 0.16216216216216217}"
      ]
     },
     "execution_count": 14,
     "metadata": {},
     "output_type": "execute_result"
    }
   ],
   "source": [
    "# Percentage of stanzas that show some repetition\n",
    "# of the same glyph in different positions\n",
    "\n",
    "_, percentages_Gv = get_similar_glyphs(sequences_Gv)\n",
    "percentages_Gv"
   ]
  },
  {
   "cell_type": "markdown",
   "id": "3dd0cd72",
   "metadata": {},
   "source": [
    "# Text T (Honolulu Tablet)"
   ]
  },
  {
   "cell_type": "markdown",
   "id": "d8d7c7cb",
   "metadata": {},
   "source": [
    "### Data processing"
   ]
  },
  {
   "cell_type": "code",
   "execution_count": 15,
   "id": "503b6793",
   "metadata": {},
   "outputs": [],
   "source": [
    "raw_T_sequences = load_file('data/T_stanzas.txt')\n",
    "clean_T_sequences = clean_lines(raw_T_sequences)\n",
    "encoded_T_sequences = encode_lines(clean_T_sequences)\n",
    "_, sequences_T = process_sequences(encoded_T_sequences)"
   ]
  },
  {
   "cell_type": "markdown",
   "id": "fac338d6",
   "metadata": {},
   "source": [
    "### Glyph collocations"
   ]
  },
  {
   "cell_type": "code",
   "execution_count": 16,
   "id": "f945678e",
   "metadata": {},
   "outputs": [
    {
     "data": {
      "text/plain": [
       "[(('90', '<76>'), 5.757255155656027),\n",
       " (('430', '<76>'), 2.0237729037633523),\n",
       " (('<76>', '532'), 11.92949980349836),\n",
       " (('<76>', '71'), 2.9151918017401512),\n",
       " (('<76>', '430'), 2.0237729037633523),\n",
       " (('<76>', '70'), 2.0237729037633523),\n",
       " (('76', '</s>'), 4.349628257474901)]"
      ]
     },
     "execution_count": 16,
     "metadata": {},
     "output_type": "execute_result"
    }
   ],
   "source": [
    "# Most likely collocations respective to glyph 76\n",
    "\n",
    "bigrams_T = get_bigram_collocations(sequences_T)\n",
    "bigrams_T"
   ]
  },
  {
   "cell_type": "markdown",
   "id": "e587ee0c",
   "metadata": {},
   "source": [
    "# Rapa Nui Names"
   ]
  },
  {
   "cell_type": "code",
   "execution_count": 27,
   "id": "ece68b91",
   "metadata": {},
   "outputs": [
    {
     "data": {
      "text/plain": [
       "[('mata', 20),\n",
       " ('hanga', 11),\n",
       " ('ure', 11),\n",
       " ('moa', 9),\n",
       " (\"tu'u\", 8),\n",
       " ('hina', 8),\n",
       " ('renga', 8),\n",
       " ('pua', 7),\n",
       " ('papa', 7),\n",
       " ('hua', 7)]"
      ]
     },
     "execution_count": 27,
     "metadata": {},
     "output_type": "execute_result"
    }
   ],
   "source": [
    "with open(\"data/male_names.txt\", \"r\") as file:\n",
    "    male_names = file.readlines()\n",
    "\n",
    "extracted_male_names = [split_and_extract_name(clean_name(name)) for name in male_names]\n",
    "male_name_count = count_names(extracted_male_names)\n",
    "male_name_count[:10]"
   ]
  },
  {
   "cell_type": "code",
   "execution_count": 28,
   "id": "78ddbc4c",
   "metadata": {},
   "outputs": [
    {
     "data": {
      "text/plain": [
       "[('renga', 13),\n",
       " ('pua', 10),\n",
       " ('veri', 8),\n",
       " ('rango', 2),\n",
       " ('vai', 2),\n",
       " ('ngangi', 1),\n",
       " ('tunu', 1),\n",
       " ('hauhau', 1),\n",
       " ('ika', 1),\n",
       " ('vakai', 1)]"
      ]
     },
     "execution_count": 28,
     "metadata": {},
     "output_type": "execute_result"
    }
   ],
   "source": [
    "with open(\"data/female_names.txt\", \"r\") as file:\n",
    "    female_names = file.readlines()\n",
    "\n",
    "extracted_female_names = [split_and_extract_name(clean_name(name)) for name in female_names]\n",
    "female_name_count = count_names(extracted_female_names)\n",
    "female_name_count[:10]"
   ]
  },
  {
   "cell_type": "code",
   "execution_count": null,
   "id": "22c98d0a",
   "metadata": {},
   "outputs": [],
   "source": []
  }
 ],
 "metadata": {
  "kernelspec": {
   "display_name": "Python 3 (ipykernel)",
   "language": "python",
   "name": "python3"
  },
  "language_info": {
   "codemirror_mode": {
    "name": "ipython",
    "version": 3
   },
   "file_extension": ".py",
   "mimetype": "text/x-python",
   "name": "python",
   "nbconvert_exporter": "python",
   "pygments_lexer": "ipython3",
   "version": "3.10.12"
  }
 },
 "nbformat": 4,
 "nbformat_minor": 5
}
