{
 "cells": [
  {
   "cell_type": "code",
   "execution_count": 2,
   "id": "20a9c640",
   "metadata": {},
   "outputs": [],
   "source": [
    "from nltk.lm.preprocessing import pad_both_ends\n",
    "from nltk.collocations import BigramAssocMeasures, BigramCollocationFinder, TrigramAssocMeasures, TrigramCollocationFinder\n",
    "from sklearn.feature_extraction.text import CountVectorizer, TfidfVectorizer\n",
    "from cosine_cost import CosineCost, plot_breakpoints\n",
    "from discourse import plot_discourse, glyph_bound\n",
    "from horley_encoding import convert_to_horley\n",
    "from scipy.stats import norm\n",
    "\n",
    "import numpy as np\n",
    "import os\n",
    "import re"
   ]
  },
  {
   "cell_type": "code",
   "execution_count": 3,
   "id": "e6da7b38",
   "metadata": {},
   "outputs": [],
   "source": [
    "# Read and preprocess data\n",
    "\n",
    "with open('data/I.csv', 'r') as file:\n",
    "    raw_data_I = [line.split(',')[1][:-1] for line in file.readlines()]\n",
    "\n",
    "# We remove glyph 999 (separator)\n",
    "clean_lines_I = [line.replace(\"(\", \"\").replace(\")\", \"\").replace(\"128\", \"001V.076\").replace('999', '').replace('.076.', '.076-').replace(\"-022h-\", \"-\").split('-') for line in raw_data_I]\n",
    "\n",
    "encoded_lines_I = [[convert_to_horley(glyph) for glyph in line] for line in clean_lines_I]"
   ]
  },
  {
   "cell_type": "code",
   "execution_count": 4,
   "id": "8013c242",
   "metadata": {},
   "outputs": [],
   "source": [
    "# Automatic extraction of the triads by splitting\n",
    "# whenever we find glyph 076 as an appendage\n",
    "\n",
    "sequences_I = []\n",
    "\n",
    "for line in encoded_lines_I:\n",
    "    i = 0\n",
    "    j = 1\n",
    "    while j < len(line):\n",
    "        if line[j][-3:] == '.76':\n",
    "            sequences_I.append(line[i:j])\n",
    "            i = j\n",
    "        j += 1\n",
    "\n",
    "# We will add a special token to represent glyph 076\n",
    "# when appended to the first glyph of the triad\n",
    "\n",
    "for i in range(len(sequences_I)):\n",
    "    sequences_I[i][0] = sequences_I[i][0][:-3]\n",
    "    sequences_I[i].insert(1, '<76>')\n",
    "\n",
    "sequences_I = [sequence for sequence in sequences_I if len(sequence) >= 4 and sequence[0] and '?' not in sequence]"
   ]
  },
  {
   "cell_type": "code",
   "execution_count": 5,
   "id": "48fffdc8",
   "metadata": {},
   "outputs": [
    {
     "data": {
      "text/plain": [
       "[(('600.6', '<76>'), 72.21678532316497),\n",
       " (('90', '<76>'), 55.97725134477073),\n",
       " (('430', '<76>'), 41.045369181283036),\n",
       " (('76', '<76>'), 17.798884463201716),\n",
       " (('90.21', '<76>'), 14.802745003862471),\n",
       " (('1v', '<76>'), 12.603026928388179),\n",
       " (('99', '<76>'), 11.793294103579775),\n",
       " (('700', '<76>'), 11.51360631048987),\n",
       " (('451', '<76>'), 11.346935382903181),\n",
       " (('290.6', '<76>'), 11.094293530144547)]"
      ]
     },
     "execution_count": 5,
     "metadata": {},
     "output_type": "execute_result"
    }
   ],
   "source": [
    "# Glyphs that most likely precede 076\n",
    "padded = [list(pad_both_ends(sequence, 2)) for sequence in sequences_I]\n",
    "bigram_measures = BigramAssocMeasures()\n",
    "finder = BigramCollocationFinder.from_documents(padded)\n",
    "finder.apply_freq_filter(2)\n",
    "finder.apply_ngram_filter(lambda *w: w[1] != '<76>' or w[0] == '?')\n",
    "finder.score_ngrams(bigram_measures.likelihood_ratio)[:10]"
   ]
  },
  {
   "cell_type": "code",
   "execution_count": 6,
   "id": "95946f66",
   "metadata": {},
   "outputs": [
    {
     "data": {
      "text/plain": [
       "[(('<76>', '200f'), 13.162647855230823), (('<76>', '70'), 8.712309275427721)]"
      ]
     },
     "execution_count": 6,
     "metadata": {},
     "output_type": "execute_result"
    }
   ],
   "source": [
    "# Glyphs that most likely follow 076\n",
    "finder = BigramCollocationFinder.from_documents(padded)\n",
    "finder.apply_freq_filter(2)\n",
    "finder.apply_ngram_filter(lambda *w: w[0] != '<76>')\n",
    "finder.score_ngrams(bigram_measures.likelihood_ratio)[:10]"
   ]
  },
  {
   "cell_type": "code",
   "execution_count": 7,
   "id": "20c1856e",
   "metadata": {},
   "outputs": [
    {
     "data": {
      "text/plain": [
       "[(('32', '</s>'), 8.889204782088079),\n",
       " (('90f', '</s>'), 8.712309275427721),\n",
       " (('22', '</s>'), 5.126336385555975),\n",
       " (('59f', '</s>'), 5.126336385555975)]"
      ]
     },
     "execution_count": 7,
     "metadata": {},
     "output_type": "execute_result"
    }
   ],
   "source": [
    "# Glyphs that most likely occur as the final\n",
    "# element in the sequence\n",
    "finder = BigramCollocationFinder.from_documents(padded)\n",
    "finder.apply_freq_filter(2)\n",
    "finder.apply_ngram_filter(lambda *w: w[1] != '</s>')\n",
    "finder.score_ngrams(bigram_measures.likelihood_ratio)[:10]"
   ]
  },
  {
   "cell_type": "code",
   "execution_count": 8,
   "id": "d92670f9",
   "metadata": {},
   "outputs": [
    {
     "data": {
      "text/plain": [
       "[]"
      ]
     },
     "execution_count": 8,
     "metadata": {},
     "output_type": "execute_result"
    }
   ],
   "source": [
    "trigram_measures = TrigramAssocMeasures()\n",
    "\n",
    "# Now, let's check for the most likely combinations\n",
    "# of the first (preceding) and second (following 76) glyphs\n",
    "finder = TrigramCollocationFinder.from_documents(padded)\n",
    "finder.apply_freq_filter(2)\n",
    "finder.apply_ngram_filter(lambda *w: w[1] != '<76>')\n",
    "finder.score_ngrams(trigram_measures.likelihood_ratio)[:10]"
   ]
  },
  {
   "cell_type": "code",
   "execution_count": 9,
   "id": "724bf2c9",
   "metadata": {},
   "outputs": [],
   "source": [
    "line_str_I = [' '.join(line) for line in encoded_lines_I]\n",
    "\n",
    "vectorizer = TfidfVectorizer(analyzer=\"word\", token_pattern = '[0-9]+[a-zAZ]*[.0-9]*[a-zAZ]*')\n",
    "vectorized_text = vectorizer.fit_transform(line_str_I)"
   ]
  },
  {
   "cell_type": "code",
   "execution_count": 10,
   "id": "e6c1536b",
   "metadata": {},
   "outputs": [
    {
     "data": {
      "image/png": "[encoded data removed]",
      "text/plain": [
       "<Figure size 432x288 with 2 Axes>"
      ]
     },
     "metadata": {
      "needs_background": "light"
     },
     "output_type": "display_data"
    }
   ],
   "source": [
    "bkpts = plot_breakpoints(vectorized_text, [1, 2])"
   ]
  },
  {
   "cell_type": "code",
   "execution_count": 11,
   "id": "66ceb0a4",
   "metadata": {},
   "outputs": [
    {
     "name": "stdout",
     "output_type": "stream",
     "text": [
      "['59f' '76']\n",
      "['1.36' '600' '200.6' '700' '200f']\n",
      "\n",
      "\n",
      "['59f' '76']\n",
      "['1.36' '200.6']\n",
      "['600' '200f' '700']\n",
      "\n",
      "\n"
     ]
    }
   ],
   "source": [
    "# Most distinctive glyphs for each segment\n",
    "\n",
    "feature_names = vectorizer.get_feature_names_out()\n",
    "X = vectorized_text.toarray()\n",
    "\n",
    "for bkpt in bkpts:\n",
    "    indices = [0] + bkpt\n",
    "    for i in range(len(indices) - 1):\n",
    "        best_features = np.argmax(X[indices[i]:indices[i+1],:], axis=1)\n",
    "        print(feature_names[list(set(best_features))])\n",
    "    print('\\n')"
   ]
  },
  {
   "cell_type": "code",
   "execution_count": 12,
   "id": "6ef5e9c4",
   "metadata": {},
   "outputs": [],
   "source": [
    "full_text = []\n",
    "for line in encoded_lines_I:\n",
    "    full_text.extend(line)"
   ]
  },
  {
   "cell_type": "code",
   "execution_count": 13,
   "id": "6eb29067",
   "metadata": {},
   "outputs": [],
   "source": [
    "first_half = {}\n",
    "second_half = {}\n",
    "\n",
    "for glyph in set(full_text):\n",
    "    if '?' not in glyph and full_text.count(glyph) >= 3:\n",
    "        bounds = glyph_bound(glyph, encoded_lines_I)\n",
    "        if bounds[1] < 6:\n",
    "            first_half[glyph] = bounds\n",
    "        elif bounds[0] >= 6:\n",
    "            second_half[glyph] = bounds\n",
    "\n",
    "# sel_glyphs_ordered = sorted(sel_glyphs.keys(), key=lambda x: sel_glyphs[x][0])\n",
    "sel_glyphs = sorted(list(first_half)) + sorted(list(second_half))\n",
    "sel_glyphs = [[glyph] for glyph in sel_glyphs]"
   ]
  },
  {
   "cell_type": "code",
   "execution_count": 14,
   "id": "be2dee0d",
   "metadata": {
    "scrolled": true
   },
   "outputs": [
    {
     "data": {
      "image/png": "[encoded data removed]",
      "text/plain": [
       "<Figure size 576x432 with 1 Axes>"
      ]
     },
     "metadata": {
      "needs_background": "light"
     },
     "output_type": "display_data"
    }
   ],
   "source": [
    "# Distribution of glyphs that appear exclusively\n",
    "# in the first or second halves\n",
    "\n",
    "plot_discourse(sel_glyphs, full_text)"
   ]
  },
  {
   "cell_type": "code",
   "execution_count": 15,
   "id": "bb8b89cd",
   "metadata": {},
   "outputs": [],
   "source": [
    "common_trigrams = finder.score_ngrams(trigram_measures.likelihood_ratio)"
   ]
  },
  {
   "cell_type": "code",
   "execution_count": 16,
   "id": "5f66319f",
   "metadata": {},
   "outputs": [],
   "source": [
    "xy_I = [(trigram[0][0], trigram[0][2]) for trigram in common_trigrams]"
   ]
  },
  {
   "cell_type": "code",
   "execution_count": 17,
   "id": "c706e702",
   "metadata": {},
   "outputs": [],
   "source": [
    "all_texts = {}\n",
    "\n",
    "filenames = os.listdir(\"data/raw_texts/\")\n",
    "for filename in filenames:\n",
    "    with open(f\"data/raw_texts/{filename}\", \"r\") as file:\n",
    "        lines = file.readlines()\n",
    "        raw_text = [line.split(',')[1][:-1] for line in lines]\n",
    "        labels = [line.split(',')[0] for line in lines]\n",
    "        clean_lines = [line.split('-') for line in raw_text]\n",
    "        encoded_lines = [[convert_to_horley(glyph) for glyph in line] for line in clean_lines]\n",
    "        for label, encoded_line in zip(labels, encoded_lines):\n",
    "            all_texts[label] = ' '.join(encoded_line)"
   ]
  },
  {
   "cell_type": "code",
   "execution_count": 18,
   "id": "e61888a6",
   "metadata": {
    "scrolled": true
   },
   "outputs": [],
   "source": [
    "for line in all_texts:\n",
    "    for pair in xy_I:\n",
    "        pattern = fr\"\\b{'(.)'.join(pair)}\\b\"\n",
    "        matches = re.findall(pattern, all_texts[line])\n",
    "        if matches:\n",
    "            print(line, pair)"
   ]
  },
  {
   "cell_type": "code",
   "execution_count": 19,
   "id": "178cb95d",
   "metadata": {},
   "outputs": [],
   "source": [
    "def is_similar(a, b):\n",
    "    a_glyphs = a.split('.')\n",
    "    b_glyphs = b.split('.')\n",
    "    if set(a_glyphs) & set(b_glyphs):\n",
    "        return True\n",
    "    return False"
   ]
  },
  {
   "cell_type": "code",
   "execution_count": 20,
   "id": "008f24de",
   "metadata": {},
   "outputs": [],
   "source": [
    "# sequences where the first and last glyphs are similar\n",
    "xyx = [seq for seq in sequences_I if is_similar(seq[0], seq[-1])]\n",
    "\n",
    "# sequences where the first and second glyphs are similar\n",
    "xxz = [seq for seq in sequences_I if is_similar(seq[0], seq[2])]\n",
    "\n",
    "# sequences where the second and final glyphs are similar\n",
    "xyy = [seq for seq in sequences_I if is_similar(seq[2], seq[-1])]"
   ]
  },
  {
   "cell_type": "code",
   "execution_count": 21,
   "id": "5e63a77b",
   "metadata": {},
   "outputs": [
    {
     "name": "stdout",
     "output_type": "stream",
     "text": [
      "0.2\n",
      "0.06666666666666667\n",
      "0.1\n"
     ]
    }
   ],
   "source": [
    "print(len(xyx) / len(sequences_I))\n",
    "print(len(xxz) / len(sequences_I))\n",
    "print(len(xyy) / len(sequences_I))"
   ]
  },
  {
   "cell_type": "code",
   "execution_count": 22,
   "id": "13304b94",
   "metadata": {},
   "outputs": [],
   "source": [
    "def glyph_indices(glyph, text):\n",
    "    return [i for i, gl in enumerate(text) if gl == glyph]\n",
    "\n",
    "def nearest_neighbor_analysis_1d(points, length, alpha=0.05):\n",
    "    n_points = len(points)\n",
    "    nearest_distances = np.diff(points)\n",
    "    observed_mean_distance = np.mean(nearest_distances)\n",
    "    expected_mean_distance = length / (n_points + 1)\n",
    "\n",
    "    nnr = observed_mean_distance / expected_mean_distance\n",
    "    \n",
    "    sd = np.std(nearest_distances, ddof=1)\n",
    "\n",
    "    standard_error = sd / np.sqrt(n_points)\n",
    "    z_score = (observed_mean_distance - expected_mean_distance) / standard_error\n",
    "    \n",
    "    if abs(z_score) > norm.ppf(1 - alpha / 2):\n",
    "        if z_score < 0:\n",
    "            result = \"clustered\"\n",
    "        else:\n",
    "            result = \"dispersed\"\n",
    "    else:\n",
    "        result = \"random\"\n",
    "    \n",
    "    return z_score, result"
   ]
  },
  {
   "cell_type": "code",
   "execution_count": 31,
   "id": "20186286",
   "metadata": {},
   "outputs": [
    {
     "name": "stderr",
     "output_type": "stream",
     "text": [
      "/tmp/ipykernel_68088/825426906.py:15: RuntimeWarning: divide by zero encountered in scalar divide\n",
      "  z_score = (observed_mean_distance - expected_mean_distance) / standard_error\n"
     ]
    }
   ],
   "source": [
    "clustered = []\n",
    "dispersed = []\n",
    "\n",
    "for glyph in set(full_text):\n",
    "    if full_text.count(glyph) >= 4:\n",
    "        points = glyph_indices(glyph, full_text)\n",
    "        res = nearest_neighbor_analysis_1d(points, len(full_text))\n",
    "        if res[1] == \"clustered\" and \"?\" not in glyph:\n",
    "            clustered.append(glyph)\n",
    "        elif res[1] == \"dispersed\" and \"?\" not in glyph:\n",
    "            dispersed.append(glyph)"
   ]
  },
  {
   "cell_type": "code",
   "execution_count": 32,
   "id": "48b94f83",
   "metadata": {},
   "outputs": [],
   "source": [
    "clustered = sorted(clustered, key=lambda x: glyph_bound(x, encoded_lines_I))\n",
    "clustered = [[glyph] for glyph in clustered]"
   ]
  },
  {
   "cell_type": "code",
   "execution_count": 33,
   "id": "30388299",
   "metadata": {},
   "outputs": [
    {
     "data": {
      "text/plain": [
       "182"
      ]
     },
     "execution_count": 33,
     "metadata": {},
     "output_type": "execute_result"
    }
   ],
   "source": [
    "sum([len(i) for i in encoded_lines_I][:6])"
   ]
  },
  {
   "cell_type": "code",
   "execution_count": 34,
   "id": "0f9b86fb",
   "metadata": {},
   "outputs": [
    {
     "data": {
      "image/png": "[encoded data removed]",
      "text/plain": [
       "<Figure size 576x432 with 1 Axes>"
      ]
     },
     "metadata": {
      "needs_background": "light"
     },
     "output_type": "display_data"
    }
   ],
   "source": [
    "plot_discourse(clustered, full_text)"
   ]
  },
  {
   "cell_type": "code",
   "execution_count": 25,
   "id": "b46e135c",
   "metadata": {},
   "outputs": [],
   "source": [
    "trigram_lists = [' '.join(trigram[0]).replace(' <76>', '.76').split() for trigram in common_trigrams]"
   ]
  },
  {
   "cell_type": "code",
   "execution_count": 26,
   "id": "5c867853",
   "metadata": {},
   "outputs": [],
   "source": [
    "def bigram_indices(x):\n",
    "    res = []\n",
    "    for i in range(len(full_text) - len(x) + 1):\n",
    "        if full_text[i:i+len(x)] == x:\n",
    "            res.append(i)\n",
    "    return res"
   ]
  },
  {
   "cell_type": "code",
   "execution_count": 27,
   "id": "f37660ca",
   "metadata": {},
   "outputs": [],
   "source": [
    "a = []\n",
    "for i in trigram_lists:\n",
    "    z = nearest_neighbor_analysis_1d(bigram_indices(i), len(full_text))\n",
    "    if z[1] != 'random':\n",
    "        a.append(i)"
   ]
  },
  {
   "cell_type": "code",
   "execution_count": 28,
   "id": "49bd7776",
   "metadata": {},
   "outputs": [
    {
     "data": {
      "image/png": "[encoded data removed]",
      "text/plain": [
       "<Figure size 576x432 with 1 Axes>"
      ]
     },
     "metadata": {
      "needs_background": "light"
     },
     "output_type": "display_data"
    }
   ],
   "source": [
    "plot_discourse(a, full_text)"
   ]
  },
  {
   "cell_type": "code",
   "execution_count": null,
   "id": "f0673fe9",
   "metadata": {},
   "outputs": [],
   "source": []
  },
  {
   "cell_type": "code",
   "execution_count": 29,
   "id": "0fa63ea5",
   "metadata": {},
   "outputs": [],
   "source": [
    "import pandas as pd\n",
    "import scipy.stats as stats"
   ]
  },
  {
   "cell_type": "code",
   "execution_count": 30,
   "id": "dc128215",
   "metadata": {},
   "outputs": [],
   "source": [
    "triads = [i for i in sequences_I if len(i) == 4]"
   ]
  },
  {
   "cell_type": "code",
   "execution_count": 31,
   "id": "f330fa7a",
   "metadata": {},
   "outputs": [],
   "source": [
    "X = [i[0] for i in triads if \"?\" not in i[0]]\n",
    "Y = [i[2] for i in triads if \"?\" not in i[2]]\n",
    "Z = [i[-1] for i in triads if \"?\" not in i[-1]]"
   ]
  },
  {
   "cell_type": "code",
   "execution_count": 32,
   "id": "151c53b1",
   "metadata": {},
   "outputs": [],
   "source": [
    "df1 = pd.DataFrame({'glyph': X, 'position': 'X'})\n",
    "df2 = pd.DataFrame({'glyph': Y, 'position': 'Y'})\n",
    "df3 = pd.DataFrame({'glyph': Z, 'position': 'Z'})\n",
    "\n",
    "df = pd.concat([df1,df2,df3])"
   ]
  },
  {
   "cell_type": "code",
   "execution_count": 33,
   "id": "107876b0",
   "metadata": {},
   "outputs": [],
   "source": [
    "crosstab = pd.crosstab(df[\"glyph\"], df[\"position\"])"
   ]
  },
  {
   "cell_type": "code",
   "execution_count": 34,
   "id": "eead7895",
   "metadata": {},
   "outputs": [],
   "source": [
    "row_sums = crosstab.sum(axis=1)\n",
    "crosstab = crosstab[row_sums >= 2]"
   ]
  },
  {
   "cell_type": "code",
   "execution_count": 35,
   "id": "3bb35456",
   "metadata": {},
   "outputs": [
    {
     "data": {
      "text/plain": [
       "Chi2ContingencyResult(statistic=449.67458359732314, pvalue=5.561598864853523e-22, dof=196, expected_freq=array([[ 0.71870398,  0.65684831,  0.62444772],\n",
       "       [ 0.71870398,  0.65684831,  0.62444772],\n",
       "       [ 2.15611193,  1.97054492,  1.87334315],\n",
       "       [ 7.18703976,  6.56848306,  6.24447717],\n",
       "       [ 1.07805596,  0.98527246,  0.93667158],\n",
       "       [ 4.67157585,  4.26951399,  4.05891016],\n",
       "       [ 4.31222386,  3.94108984,  3.7466863 ],\n",
       "       [ 3.59351988,  3.28424153,  3.12223859],\n",
       "       [ 4.31222386,  3.94108984,  3.7466863 ],\n",
       "       [ 0.71870398,  0.65684831,  0.62444772],\n",
       "       [ 3.23416789,  2.95581738,  2.81001473],\n",
       "       [ 2.15611193,  1.97054492,  1.87334315],\n",
       "       [ 0.71870398,  0.65684831,  0.62444772],\n",
       "       [ 0.71870398,  0.65684831,  0.62444772],\n",
       "       [ 1.07805596,  0.98527246,  0.93667158],\n",
       "       [ 0.71870398,  0.65684831,  0.62444772],\n",
       "       [ 2.15611193,  1.97054492,  1.87334315],\n",
       "       [ 0.71870398,  0.65684831,  0.62444772],\n",
       "       [ 3.59351988,  3.28424153,  3.12223859],\n",
       "       [ 1.43740795,  1.31369661,  1.24889543],\n",
       "       [ 5.03092784,  4.59793814,  4.37113402],\n",
       "       [ 1.79675994,  1.64212077,  1.56111929],\n",
       "       [ 0.71870398,  0.65684831,  0.62444772],\n",
       "       [ 1.79675994,  1.64212077,  1.56111929],\n",
       "       [ 0.71870398,  0.65684831,  0.62444772],\n",
       "       [ 1.43740795,  1.31369661,  1.24889543],\n",
       "       [ 0.71870398,  0.65684831,  0.62444772],\n",
       "       [ 1.07805596,  0.98527246,  0.93667158],\n",
       "       [ 0.71870398,  0.65684831,  0.62444772],\n",
       "       [ 3.59351988,  3.28424153,  3.12223859],\n",
       "       [ 1.79675994,  1.64212077,  1.56111929],\n",
       "       [ 5.03092784,  4.59793814,  4.37113402],\n",
       "       [ 1.07805596,  0.98527246,  0.93667158],\n",
       "       [ 1.43740795,  1.31369661,  1.24889543],\n",
       "       [ 1.07805596,  0.98527246,  0.93667158],\n",
       "       [ 8.26509573,  7.55375552,  7.18114875],\n",
       "       [ 0.71870398,  0.65684831,  0.62444772],\n",
       "       [ 0.71870398,  0.65684831,  0.62444772],\n",
       "       [ 1.43740795,  1.31369661,  1.24889543],\n",
       "       [ 4.31222386,  3.94108984,  3.7466863 ],\n",
       "       [ 1.07805596,  0.98527246,  0.93667158],\n",
       "       [ 2.15611193,  1.97054492,  1.87334315],\n",
       "       [ 2.15611193,  1.97054492,  1.87334315],\n",
       "       [ 2.87481591,  2.62739323,  2.49779087],\n",
       "       [ 2.15611193,  1.97054492,  1.87334315],\n",
       "       [ 1.07805596,  0.98527246,  0.93667158],\n",
       "       [ 0.71870398,  0.65684831,  0.62444772],\n",
       "       [ 0.71870398,  0.65684831,  0.62444772],\n",
       "       [ 0.71870398,  0.65684831,  0.62444772],\n",
       "       [ 2.15611193,  1.97054492,  1.87334315],\n",
       "       [ 6.82768778,  6.24005891,  5.93225331],\n",
       "       [ 1.07805596,  0.98527246,  0.93667158],\n",
       "       [ 0.71870398,  0.65684831,  0.62444772],\n",
       "       [ 1.79675994,  1.64212077,  1.56111929],\n",
       "       [ 0.71870398,  0.65684831,  0.62444772],\n",
       "       [ 1.07805596,  0.98527246,  0.93667158],\n",
       "       [ 1.79675994,  1.64212077,  1.56111929],\n",
       "       [ 0.71870398,  0.65684831,  0.62444772],\n",
       "       [ 1.43740795,  1.31369661,  1.24889543],\n",
       "       [ 2.51546392,  2.29896907,  2.18556701],\n",
       "       [12.2179676 , 11.16642121, 10.61561119],\n",
       "       [ 7.90574374,  7.22533137,  6.86892489],\n",
       "       [ 0.71870398,  0.65684831,  0.62444772],\n",
       "       [ 2.15611193,  1.97054492,  1.87334315],\n",
       "       [ 0.71870398,  0.65684831,  0.62444772],\n",
       "       [ 1.07805596,  0.98527246,  0.93667158],\n",
       "       [ 3.95287187,  3.61266568,  3.43446244],\n",
       "       [ 3.23416789,  2.95581738,  2.81001473],\n",
       "       [ 1.07805596,  0.98527246,  0.93667158],\n",
       "       [ 6.82768778,  6.24005891,  5.93225331],\n",
       "       [ 8.98379971,  8.21060383,  7.80559647],\n",
       "       [ 0.71870398,  0.65684831,  0.62444772],\n",
       "       [ 1.07805596,  0.98527246,  0.93667158],\n",
       "       [ 0.71870398,  0.65684831,  0.62444772],\n",
       "       [11.85861561, 10.83799705, 10.30338733],\n",
       "       [ 0.71870398,  0.65684831,  0.62444772],\n",
       "       [ 3.23416789,  2.95581738,  2.81001473],\n",
       "       [ 1.43740795,  1.31369661,  1.24889543],\n",
       "       [ 2.15611193,  1.97054492,  1.87334315],\n",
       "       [ 0.71870398,  0.65684831,  0.62444772],\n",
       "       [ 0.71870398,  0.65684831,  0.62444772],\n",
       "       [ 0.71870398,  0.65684831,  0.62444772],\n",
       "       [ 2.51546392,  2.29896907,  2.18556701],\n",
       "       [ 2.15611193,  1.97054492,  1.87334315],\n",
       "       [ 8.62444772,  7.88217968,  7.49337261],\n",
       "       [ 1.43740795,  1.31369661,  1.24889543],\n",
       "       [ 1.43740795,  1.31369661,  1.24889543],\n",
       "       [ 1.43740795,  1.31369661,  1.24889543],\n",
       "       [ 0.71870398,  0.65684831,  0.62444772],\n",
       "       [ 1.43740795,  1.31369661,  1.24889543],\n",
       "       [ 1.07805596,  0.98527246,  0.93667158],\n",
       "       [ 1.07805596,  0.98527246,  0.93667158],\n",
       "       [ 1.07805596,  0.98527246,  0.93667158],\n",
       "       [ 2.15611193,  1.97054492,  1.87334315],\n",
       "       [ 1.79675994,  1.64212077,  1.56111929],\n",
       "       [15.81148748, 14.45066274, 13.73784978],\n",
       "       [ 1.07805596,  0.98527246,  0.93667158],\n",
       "       [ 1.07805596,  0.98527246,  0.93667158],\n",
       "       [ 2.15611193,  1.97054492,  1.87334315]]))"
      ]
     },
     "execution_count": 35,
     "metadata": {},
     "output_type": "execute_result"
    }
   ],
   "source": [
    "stats.chi2_contingency(crosstab)"
   ]
  },
  {
   "cell_type": "code",
   "execution_count": 36,
   "id": "23198e8c",
   "metadata": {},
   "outputs": [
    {
     "data": {
      "text/html": [
       "<div>\n",
       "<style scoped>\n",
       "    .dataframe tbody tr th:only-of-type {\n",
       "        vertical-align: middle;\n",
       "    }\n",
       "\n",
       "    .dataframe tbody tr th {\n",
       "        vertical-align: top;\n",
       "    }\n",
       "\n",
       "    .dataframe thead th {\n",
       "        text-align: right;\n",
       "    }\n",
       "</style>\n",
       "<table border=\"1\" class=\"dataframe\">\n",
       "  <thead>\n",
       "    <tr style=\"text-align: right;\">\n",
       "      <th>position</th>\n",
       "      <th>X</th>\n",
       "      <th>Y</th>\n",
       "      <th>Z</th>\n",
       "    </tr>\n",
       "    <tr>\n",
       "      <th>glyph</th>\n",
       "      <th></th>\n",
       "      <th></th>\n",
       "      <th></th>\n",
       "    </tr>\n",
       "  </thead>\n",
       "  <tbody>\n",
       "    <tr>\n",
       "      <th>1</th>\n",
       "      <td>1</td>\n",
       "      <td>1</td>\n",
       "      <td>0</td>\n",
       "    </tr>\n",
       "    <tr>\n",
       "      <th>522f</th>\n",
       "      <td>1</td>\n",
       "      <td>1</td>\n",
       "      <td>0</td>\n",
       "    </tr>\n",
       "    <tr>\n",
       "      <th>95</th>\n",
       "      <td>0</td>\n",
       "      <td>3</td>\n",
       "      <td>0</td>\n",
       "    </tr>\n",
       "    <tr>\n",
       "      <th>532.6</th>\n",
       "      <td>0</td>\n",
       "      <td>3</td>\n",
       "      <td>0</td>\n",
       "    </tr>\n",
       "    <tr>\n",
       "      <th>430.10</th>\n",
       "      <td>0</td>\n",
       "      <td>2</td>\n",
       "      <td>0</td>\n",
       "    </tr>\n",
       "    <tr>\n",
       "      <th>...</th>\n",
       "      <td>...</td>\n",
       "      <td>...</td>\n",
       "      <td>...</td>\n",
       "    </tr>\n",
       "    <tr>\n",
       "      <th>27</th>\n",
       "      <td>5</td>\n",
       "      <td>2</td>\n",
       "      <td>7</td>\n",
       "    </tr>\n",
       "    <tr>\n",
       "      <th>700</th>\n",
       "      <td>12</td>\n",
       "      <td>4</td>\n",
       "      <td>9</td>\n",
       "    </tr>\n",
       "    <tr>\n",
       "      <th>76</th>\n",
       "      <td>11</td>\n",
       "      <td>2</td>\n",
       "      <td>11</td>\n",
       "    </tr>\n",
       "    <tr>\n",
       "      <th>600</th>\n",
       "      <td>3</td>\n",
       "      <td>12</td>\n",
       "      <td>19</td>\n",
       "    </tr>\n",
       "    <tr>\n",
       "      <th>90</th>\n",
       "      <td>24</td>\n",
       "      <td>0</td>\n",
       "      <td>20</td>\n",
       "    </tr>\n",
       "  </tbody>\n",
       "</table>\n",
       "<p>99 rows × 3 columns</p>\n",
       "</div>"
      ],
      "text/plain": [
       "position   X   Y   Z\n",
       "glyph               \n",
       "1          1   1   0\n",
       "522f       1   1   0\n",
       "95         0   3   0\n",
       "532.6      0   3   0\n",
       "430.10     0   2   0\n",
       "...       ..  ..  ..\n",
       "27         5   2   7\n",
       "700       12   4   9\n",
       "76        11   2  11\n",
       "600        3  12  19\n",
       "90        24   0  20\n",
       "\n",
       "[99 rows x 3 columns]"
      ]
     },
     "execution_count": 36,
     "metadata": {},
     "output_type": "execute_result"
    }
   ],
   "source": [
    "crosstab.sort_values(by='Z')"
   ]
  }
 ],
 "metadata": {
  "kernelspec": {
   "display_name": "Python 3 (ipykernel)",
   "language": "python",
   "name": "python3"
  },
  "language_info": {
   "codemirror_mode": {
    "name": "ipython",
    "version": 3
   },
   "file_extension": ".py",
   "mimetype": "text/x-python",
   "name": "python",
   "nbconvert_exporter": "python",
   "pygments_lexer": "ipython3",
   "version": "3.11.6"
  }
 },
 "nbformat": 4,
 "nbformat_minor": 5
}
