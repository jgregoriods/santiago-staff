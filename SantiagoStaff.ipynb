{
 "cells": [
  {
   "cell_type": "code",
   "execution_count": 1,
   "id": "20a9c640",
   "metadata": {},
   "outputs": [],
   "source": [
    "from nltk.lm.preprocessing import pad_both_ends\n",
    "from nltk.collocations import BigramAssocMeasures, BigramCollocationFinder, TrigramAssocMeasures, TrigramCollocationFinder\n",
    "from sklearn.feature_extraction.text import CountVectorizer, TfidfVectorizer\n",
    "from cosine_cost import CosineCost, plot_breakpoints\n",
    "from discourse import plot_discourse, glyph_bound\n",
    "from horley_encoding import convert_to_horley\n",
    "from scipy.stats import norm\n",
    "\n",
    "import numpy as np\n",
    "import os\n",
    "import re"
   ]
  },
  {
   "cell_type": "code",
   "execution_count": 2,
   "id": "e6da7b38",
   "metadata": {},
   "outputs": [],
   "source": [
    "# Read and preprocess data\n",
    "\n",
    "with open('data/I.csv', 'r') as file:\n",
    "    raw_data_I = [line.split(',')[1][:-1] for line in file.readlines()]\n",
    "\n",
    "# We remove glyph 999 (separator)\n",
    "clean_lines_I = [line.replace('999', '').replace('.076.', '.076-').split('-') for line in raw_data_I]\n",
    "\n",
    "encoded_lines_I = [[convert_to_horley(glyph) for glyph in line] for line in clean_lines_I]"
   ]
  },
  {
   "cell_type": "code",
   "execution_count": 3,
   "id": "8013c242",
   "metadata": {},
   "outputs": [],
   "source": [
    "# Automatic extraction of the triads by splitting\n",
    "# whenever we find glyph 076 as an appendage\n",
    "\n",
    "sequences_I = []\n",
    "\n",
    "for line in encoded_lines_I:\n",
    "    i = 0\n",
    "    j = 1\n",
    "    while j < len(line):\n",
    "        if line[j][-3:] == '.76':\n",
    "            sequences_I.append(line[i:j])\n",
    "            i = j\n",
    "        j += 1\n",
    "\n",
    "# We will add a special token to represent glyph 076\n",
    "# when appended to the first glyph of the triad\n",
    "\n",
    "for i in range(len(sequences_I)):\n",
    "    sequences_I[i][0] = sequences_I[i][0][:-3]\n",
    "    sequences_I[i].insert(1, '<76>')\n",
    "\n",
    "sequences_I = [sequence for sequence in sequences_I if len(sequence) >= 4 and sequence[0] and '?' not in sequence]"
   ]
  },
  {
   "cell_type": "code",
   "execution_count": 4,
   "id": "48fffdc8",
   "metadata": {},
   "outputs": [
    {
     "data": {
      "text/plain": [
       "[(('600.6', '<76>'), 73.62570510357443),\n",
       " (('90', '<76>'), 57.80269539833187),\n",
       " (('430', '<76>'), 44.05812049300546),\n",
       " (('90.21', '<76>'), 15.028412204819983),\n",
       " (('1v', '<76>'), 14.286277582565102),\n",
       " (('99', '<76>'), 12.10248546341244),\n",
       " (('700', '<76>'), 12.064668887264476),\n",
       " (('451', '<76>'), 11.693029235969725),\n",
       " (('290.6', '<76>'), 11.263019998192085),\n",
       " (('633', '<76>'), 11.081302101755409)]"
      ]
     },
     "execution_count": 4,
     "metadata": {},
     "output_type": "execute_result"
    }
   ],
   "source": [
    "# Glyphs that most likely precede 076\n",
    "padded = [list(pad_both_ends(sequence, 2)) for sequence in sequences_I]\n",
    "bigram_measures = BigramAssocMeasures()\n",
    "finder = BigramCollocationFinder.from_documents(padded)\n",
    "finder.apply_freq_filter(2)\n",
    "finder.apply_ngram_filter(lambda *w: w[1] != '<76>' or w[0] == '?')\n",
    "finder.score_ngrams(bigram_measures.likelihood_ratio)[:10]"
   ]
  },
  {
   "cell_type": "code",
   "execution_count": 5,
   "id": "95946f66",
   "metadata": {},
   "outputs": [
    {
     "data": {
      "text/plain": [
       "[(('<76>', '11'), 45.31012035527205),\n",
       " (('<76>', '532'), 38.77190824754203),\n",
       " (('<76>', '71'), 38.41887028612969),\n",
       " (('<76>', '70'), 29.654301860701956),\n",
       " (('<76>', '10.79f'), 26.358038520561486),\n",
       " (('<76>', '4f'), 24.192595897186127),\n",
       " (('<76>', '75'), 17.16204074968214),\n",
       " (('<76>', '2a.10'), 15.700148271227683),\n",
       " (('<76>', '11.2a'), 11.263019998192085),\n",
       " (('<76>', '57'), 11.263019998192085)]"
      ]
     },
     "execution_count": 5,
     "metadata": {},
     "output_type": "execute_result"
    }
   ],
   "source": [
    "# Glyphs that most likely follow 076\n",
    "finder = BigramCollocationFinder.from_documents(padded)\n",
    "finder.apply_freq_filter(2)\n",
    "finder.apply_ngram_filter(lambda *w: w[0] != '<76>')\n",
    "finder.score_ngrams(bigram_measures.likelihood_ratio)[:10]"
   ]
  },
  {
   "cell_type": "code",
   "execution_count": 6,
   "id": "20c1856e",
   "metadata": {},
   "outputs": [
    {
     "data": {
      "text/plain": [
       "[(('600', '</s>'), 33.30736955146091),\n",
       " (('90', '</s>'), 17.49066097925927),\n",
       " (('59', '</s>'), 11.081302101755409),\n",
       " (('200.10', '</s>'), 8.24948085557606),\n",
       " (('27', '</s>'), 8.24948085557606),\n",
       " (('670', '</s>'), 7.9096517910893365),\n",
       " (('290.2a', '</s>'), 7.503167734931839),\n",
       " (('40.290', '</s>'), 7.503167734931839),\n",
       " (('513', '</s>'), 7.503167734931839),\n",
       " (('59.6', '</s>'), 7.503167734931839)]"
      ]
     },
     "execution_count": 6,
     "metadata": {},
     "output_type": "execute_result"
    }
   ],
   "source": [
    "# Glyphs that most likely occur as the final\n",
    "# element in the sequence\n",
    "finder = BigramCollocationFinder.from_documents(padded)\n",
    "finder.apply_freq_filter(2)\n",
    "finder.apply_ngram_filter(lambda *w: w[1] != '</s>')\n",
    "finder.score_ngrams(bigram_measures.likelihood_ratio)[:10]"
   ]
  },
  {
   "cell_type": "code",
   "execution_count": 7,
   "id": "d92670f9",
   "metadata": {},
   "outputs": [
    {
     "data": {
      "text/plain": [
       "[(('600.6', '<76>', '532'), 114.08885469993936),\n",
       " (('600.6', '<76>', '70'), 105.73235973666979),\n",
       " (('90', '<76>', '11'), 103.93829026685017),\n",
       " (('90', '<76>', '71'), 97.5458282225089),\n",
       " (('90', '<76>', '70'), 96.77084572730749),\n",
       " (('600.6', '<76>', '71.61'), 91.50854903383879),\n",
       " (('600.6', '<76>', '600'), 85.5307460601365),\n",
       " (('430', '<76>', '532'), 83.40717449315693),\n",
       " (('90', '<76>', '2a.10'), 77.00420911780677),\n",
       " (('90', '<76>', '57'), 74.40213780403602),\n",
       " (('90', '<76>', '5'), 65.68288604817322),\n",
       " (('28', '<76>', '11'), 64.64593252962699),\n",
       " (('90', '<76>', '700'), 61.032900152803904),\n",
       " (('200.10', '<76>', '71'), 58.79413433922902),\n",
       " (('1v', '<76>', '71'), 57.961508724467116),\n",
       " (('430', '<76>', '770.53'), 56.2375500069417),\n",
       " (('430', '<76>', '55'), 56.201399840692076),\n",
       " (('99', '<76>', '532'), 55.285452460508324),\n",
       " (('99', '<76>', '71'), 53.92920667491693),\n",
       " (('381.6', '<76>', '11'), 53.76157544215701),\n",
       " (('430', '<76>', '48f'), 53.698773360488445),\n",
       " (('430', '<76>', '5'), 53.538917058952464),\n",
       " (('700', '<76>', '71'), 51.796911358551114),\n",
       " (('430', '<76>', '1v'), 50.85310547093461),\n",
       " (('71', '<76>', '10.79f'), 48.21696636866014),\n",
       " (('90.21', '<76>', '87'), 46.27428571791798),\n",
       " (('755', '<76>', '75'), 45.654557408337),\n",
       " (('721', '<76>', '70'), 44.662409978321016),\n",
       " (('67', '<76>', '4f'), 43.36005139734196),\n",
       " (('72', '<76>', '10.79f'), 43.24915683302588),\n",
       " (('451', '<76>', '4f'), 42.86519388583169),\n",
       " (('381.63', '<76>', '280'), 31.9455006366045),\n",
       " (('53', '<76>', '2a.10'), 31.534626108778493),\n",
       " (('633', '<76>', '600.?'), 29.701506910231387),\n",
       " (('1v', '<76>', '69'), 27.974314318490954),\n",
       " (('27', '<76>', '95'), 27.880943758502735),\n",
       " (('70', '<76>', '2a.10'), 26.7831928716527),\n",
       " (('200', '<76>', '11.2a'), 26.651670049667487),\n",
       " (('700', '<76>', '721.6'), 25.309574613202372),\n",
       " (('1v', '<76>', '200'), 25.273806223264906),\n",
       " (('23', '<76>', '760'), 24.69720494041146)]"
      ]
     },
     "execution_count": 7,
     "metadata": {},
     "output_type": "execute_result"
    }
   ],
   "source": [
    "trigram_measures = TrigramAssocMeasures()\n",
    "\n",
    "# Now, let's check for the most likely combinations\n",
    "# of the first (preceding) and second (following 76) glyphs\n",
    "finder = TrigramCollocationFinder.from_documents(padded)\n",
    "finder.apply_freq_filter(2)\n",
    "finder.apply_ngram_filter(lambda *w: w[1] != '<76>')\n",
    "finder.score_ngrams(trigram_measures.likelihood_ratio)"
   ]
  },
  {
   "cell_type": "code",
   "execution_count": 8,
   "id": "724bf2c9",
   "metadata": {},
   "outputs": [],
   "source": [
    "line_str_I = [' '.join(line) for line in encoded_lines_I]\n",
    "\n",
    "vectorizer = TfidfVectorizer(analyzer=\"word\", token_pattern = '[0-9]+[a-zAZ]*[.0-9]*[a-zAZ]*')\n",
    "vectorized_text = vectorizer.fit_transform(line_str_I)"
   ]
  },
  {
   "cell_type": "code",
   "execution_count": 9,
   "id": "e6c1536b",
   "metadata": {},
   "outputs": [
    {
     "data": {
      "image/png": "[encoded data removed]",
      "text/plain": [
       "<Figure size 432x288 with 2 Axes>"
      ]
     },
     "metadata": {
      "needs_background": "light"
     },
     "output_type": "display_data"
    }
   ],
   "source": [
    "bkpts = plot_breakpoints(vectorized_text, [1, 2])"
   ]
  },
  {
   "cell_type": "code",
   "execution_count": 10,
   "id": "66ceb0a4",
   "metadata": {},
   "outputs": [
    {
     "name": "stdout",
     "output_type": "stream",
     "text": [
      "['270' '430' '200.6.76' '700.76' '755.76' '76']\n",
      "['55' '200.10.76' '90.76' '11' '71' '76']\n",
      "\n",
      "\n",
      "['700.76' '200.6.76']\n",
      "['755.76' '270' '76' '430']\n",
      "['55' '200.10.76' '90.76' '11' '71' '76']\n",
      "\n",
      "\n"
     ]
    }
   ],
   "source": [
    "# Most distinctive glyphs for each segment\n",
    "\n",
    "feature_names = vectorizer.get_feature_names_out()\n",
    "X = vectorized_text.toarray()\n",
    "\n",
    "for bkpt in bkpts:\n",
    "    indices = [0] + bkpt\n",
    "    for i in range(len(indices) - 1):\n",
    "        best_features = np.argmax(X[indices[i]:indices[i+1],:], axis=1)\n",
    "        print(feature_names[list(set(best_features))])\n",
    "    print('\\n')"
   ]
  },
  {
   "cell_type": "code",
   "execution_count": 11,
   "id": "6ef5e9c4",
   "metadata": {},
   "outputs": [],
   "source": [
    "full_text = []\n",
    "for line in encoded_lines_I:\n",
    "    full_text.extend(line)"
   ]
  },
  {
   "cell_type": "code",
   "execution_count": 12,
   "id": "6eb29067",
   "metadata": {},
   "outputs": [],
   "source": [
    "first_half = {}\n",
    "second_half = {}\n",
    "\n",
    "for glyph in set(full_text):\n",
    "    if '?' not in glyph and full_text.count(glyph) >= 4:\n",
    "        bounds = glyph_bound(glyph, encoded_lines_I)\n",
    "        if bounds[1] < 6:\n",
    "            first_half[glyph] = bounds\n",
    "        elif bounds[0] >= 6:\n",
    "            second_half[glyph] = bounds\n",
    "\n",
    "# sel_glyphs_ordered = sorted(sel_glyphs.keys(), key=lambda x: sel_glyphs[x][0])\n",
    "sel_glyphs = sorted(list(first_half)) + sorted(list(second_half))"
   ]
  },
  {
   "cell_type": "code",
   "execution_count": 13,
   "id": "be2dee0d",
   "metadata": {
    "scrolled": true
   },
   "outputs": [
    {
     "data": {
      "image/png": "[encoded data removed]",
      "text/plain": [
       "<Figure size 576x432 with 1 Axes>"
      ]
     },
     "metadata": {
      "needs_background": "light"
     },
     "output_type": "display_data"
    }
   ],
   "source": [
    "# Distribution of glyphs that appear exclusively\n",
    "# in the first or second halves\n",
    "\n",
    "plot_discourse(sel_glyphs, full_text)"
   ]
  },
  {
   "cell_type": "code",
   "execution_count": 14,
   "id": "bb8b89cd",
   "metadata": {},
   "outputs": [],
   "source": [
    "common_trigrams = finder.score_ngrams(trigram_measures.likelihood_ratio)"
   ]
  },
  {
   "cell_type": "code",
   "execution_count": 15,
   "id": "5f66319f",
   "metadata": {},
   "outputs": [],
   "source": [
    "xy_I = [(trigram[0][0], trigram[0][2]) for trigram in common_trigrams]"
   ]
  },
  {
   "cell_type": "code",
   "execution_count": 16,
   "id": "c706e702",
   "metadata": {},
   "outputs": [],
   "source": [
    "all_texts = {}\n",
    "\n",
    "filenames = os.listdir(\"data/raw_texts/\")\n",
    "for filename in filenames:\n",
    "    with open(f\"data/raw_texts/{filename}\", \"r\") as file:\n",
    "        lines = file.readlines()\n",
    "        raw_text = [line.split(',')[1][:-1] for line in lines]\n",
    "        labels = [line.split(',')[0] for line in lines]\n",
    "        clean_lines = [line.split('-') for line in raw_text]\n",
    "        encoded_lines = [[convert_to_horley(glyph) for glyph in line] for line in clean_lines]\n",
    "        for label, encoded_line in zip(labels, encoded_lines):\n",
    "            all_texts[label] = ' '.join(encoded_line)"
   ]
  },
  {
   "cell_type": "code",
   "execution_count": 17,
   "id": "e61888a6",
   "metadata": {
    "scrolled": true
   },
   "outputs": [
    {
     "name": "stdout",
     "output_type": "stream",
     "text": [
      "Pr7 ('600.6', '600')\n",
      "Pr7 ('27', '95')\n",
      "Pr8 ('600.6', '600')\n",
      "Pv1 ('90', '5')\n",
      "Pv7 ('430', '48f')\n",
      "Qr7 ('600.6', '600')\n",
      "Qr7 ('200.10', '71')\n",
      "Qr7 ('27', '95')\n",
      "Qv2 ('90', '5')\n",
      "Hr7 ('600.6', '600')\n",
      "Hr7 ('27', '95')\n",
      "Hr11 ('90', '5')\n",
      "Er7 ('430', '5')\n",
      "Ev2 ('90', '71')\n",
      "Sb8 ('90', '70')\n",
      "Ab3 ('430', '5')\n",
      "Cb2 ('600.6', '600')\n",
      "Aa2 ('90', '11')\n",
      "Aa2 ('90', '70')\n",
      "Aa2 ('27', '95')\n",
      "Aa5 ('200', '11.2a')\n",
      "Aa8 ('381.6', '11')\n"
     ]
    }
   ],
   "source": [
    "for line in all_texts:\n",
    "    for pair in xy_I:\n",
    "        pattern = fr\"\\b{'(.)'.join(pair)}\\b\"\n",
    "        matches = re.findall(pattern, all_texts[line])\n",
    "        if matches:\n",
    "            print(line, pair)"
   ]
  },
  {
   "cell_type": "code",
   "execution_count": 18,
   "id": "178cb95d",
   "metadata": {},
   "outputs": [],
   "source": [
    "def is_similar(a, b):\n",
    "    a_glyphs = a.split('.')\n",
    "    b_glyphs = b.split('.')\n",
    "    if set(a_glyphs) & set(b_glyphs):\n",
    "        return True\n",
    "    return False"
   ]
  },
  {
   "cell_type": "code",
   "execution_count": 19,
   "id": "008f24de",
   "metadata": {},
   "outputs": [],
   "source": [
    "# sequences where the first and last glyphs are similar\n",
    "xyx = [seq for seq in sequences_I if is_similar(seq[0], seq[-1])]\n",
    "\n",
    "# sequences where the first and second glyphs are similar\n",
    "xxz = [seq for seq in sequences_I if is_similar(seq[0], seq[2])]\n",
    "\n",
    "# sequences where the second and final glyphs are similar\n",
    "xyy = [seq for seq in sequences_I if is_similar(seq[2], seq[-1])]"
   ]
  },
  {
   "cell_type": "code",
   "execution_count": 20,
   "id": "5e63a77b",
   "metadata": {},
   "outputs": [
    {
     "name": "stdout",
     "output_type": "stream",
     "text": [
      "0.05825242718446602\n",
      "0.045307443365695796\n",
      "0.025889967637540454\n"
     ]
    }
   ],
   "source": [
    "print(len(xyx) / len(sequences_I))\n",
    "print(len(xxz) / len(sequences_I))\n",
    "print(len(xyy) / len(sequences_I))"
   ]
  },
  {
   "cell_type": "code",
   "execution_count": 21,
   "id": "13304b94",
   "metadata": {},
   "outputs": [],
   "source": [
    "def glyph_indices(glyph, text):\n",
    "    return [i for i, gl in enumerate(text) if gl == glyph]\n",
    "\n",
    "def nearest_neighbor_analysis_1d(points, length, alpha=0.05):\n",
    "    n_points = len(points)\n",
    "    nearest_distances = np.diff(points)\n",
    "    observed_mean_distance = np.mean(nearest_distances)\n",
    "    expected_mean_distance = length / (n_points + 1)\n",
    "\n",
    "    nnr = observed_mean_distance / expected_mean_distance\n",
    "    \n",
    "    sd = np.std(nearest_distances, ddof=1)\n",
    "\n",
    "    standard_error = sd / np.sqrt(n_points)\n",
    "    z_score = (observed_mean_distance - expected_mean_distance) / standard_error\n",
    "    \n",
    "    if abs(z_score) > norm.ppf(1 - alpha / 2):\n",
    "        if z_score < 0:\n",
    "            result = \"clustered\"\n",
    "        else:\n",
    "            result = \"dispersed\"\n",
    "    else:\n",
    "        result = \"random\"\n",
    "    \n",
    "    return z_score, result"
   ]
  },
  {
   "cell_type": "code",
   "execution_count": 22,
   "id": "20186286",
   "metadata": {},
   "outputs": [
    {
     "name": "stderr",
     "output_type": "stream",
     "text": [
      "/home/jgregoriods/.local/lib/python3.10/site-packages/numpy/core/_methods.py:206: RuntimeWarning: Degrees of freedom <= 0 for slice\n",
      "  ret = _var(a, axis=axis, dtype=dtype, out=out, ddof=ddof,\n",
      "/home/jgregoriods/.local/lib/python3.10/site-packages/numpy/core/_methods.py:198: RuntimeWarning: invalid value encountered in scalar divide\n",
      "  ret = ret.dtype.type(ret / rcount)\n"
     ]
    }
   ],
   "source": [
    "clustered = []\n",
    "dispersed = []\n",
    "\n",
    "for glyph in set(full_text):\n",
    "    if full_text.count(glyph) > 1:\n",
    "        points = glyph_indices(glyph, full_text)\n",
    "        res = nearest_neighbor_analysis_1d(points, len(full_text))\n",
    "        if res[1] == \"clustered\" and \"?\" not in glyph:\n",
    "            clustered.append(glyph)\n",
    "        elif res[1] == \"dispersed\" and \"?\" not in glyph:\n",
    "            dispersed.append(glyph)"
   ]
  },
  {
   "cell_type": "code",
   "execution_count": 23,
   "id": "48b94f83",
   "metadata": {},
   "outputs": [],
   "source": [
    "clustered = sorted(clustered, key=lambda x: glyph_bound(x, encoded_lines_I))"
   ]
  },
  {
   "cell_type": "code",
   "execution_count": 24,
   "id": "0f9b86fb",
   "metadata": {},
   "outputs": [
    {
     "data": {
      "image/png": "[encoded data removed]",
      "text/plain": [
       "<Figure size 576x432 with 1 Axes>"
      ]
     },
     "metadata": {
      "needs_background": "light"
     },
     "output_type": "display_data"
    }
   ],
   "source": [
    "plot_discourse(clustered, full_text)"
   ]
  },
  {
   "cell_type": "code",
   "execution_count": 25,
   "id": "0fa63ea5",
   "metadata": {},
   "outputs": [],
   "source": [
    "import pandas as pd\n",
    "import scipy.stats as stats"
   ]
  },
  {
   "cell_type": "code",
   "execution_count": 26,
   "id": "dc128215",
   "metadata": {},
   "outputs": [],
   "source": [
    "triads = [i for i in sequences_I if len(i) == 4]"
   ]
  },
  {
   "cell_type": "code",
   "execution_count": 27,
   "id": "f330fa7a",
   "metadata": {},
   "outputs": [],
   "source": [
    "X = [i[0] for i in triads if \"?\" not in i[0]]\n",
    "Y = [i[2] for i in triads if \"?\" not in i[2]]\n",
    "Z = [i[-1] for i in triads if \"?\" not in i[-1]]"
   ]
  },
  {
   "cell_type": "code",
   "execution_count": 28,
   "id": "151c53b1",
   "metadata": {},
   "outputs": [],
   "source": [
    "df1 = pd.DataFrame({'glyph': X, 'position': 'X'})\n",
    "df2 = pd.DataFrame({'glyph': Y, 'position': 'Y'})\n",
    "df3 = pd.DataFrame({'glyph': Z, 'position': 'Z'})\n",
    "\n",
    "df = pd.concat([df1,df2,df3])"
   ]
  },
  {
   "cell_type": "code",
   "execution_count": 29,
   "id": "107876b0",
   "metadata": {},
   "outputs": [],
   "source": [
    "crosstab = pd.crosstab(df[\"glyph\"], df[\"position\"])"
   ]
  },
  {
   "cell_type": "code",
   "execution_count": 30,
   "id": "eead7895",
   "metadata": {},
   "outputs": [],
   "source": [
    "row_sums = crosstab.sum(axis=1)\n",
    "crosstab = crosstab[row_sums >= 2]"
   ]
  },
  {
   "cell_type": "code",
   "execution_count": 31,
   "id": "3bb35456",
   "metadata": {},
   "outputs": [
    {
     "data": {
      "text/plain": [
       "Chi2ContingencyResult(statistic=412.51643166569954, pvalue=7.202659909548665e-19, dof=188, expected_freq=array([[ 0.71381579,  0.65460526,  0.63157895],\n",
       "       [ 0.71381579,  0.65460526,  0.63157895],\n",
       "       [ 1.78453947,  1.63651316,  1.57894737],\n",
       "       [ 6.42434211,  5.89144737,  5.68421053],\n",
       "       [ 0.71381579,  0.65460526,  0.63157895],\n",
       "       [ 4.28289474,  3.92763158,  3.78947368],\n",
       "       [ 4.28289474,  3.92763158,  3.78947368],\n",
       "       [ 3.21217105,  2.94572368,  2.84210526],\n",
       "       [ 4.28289474,  3.92763158,  3.78947368],\n",
       "       [ 0.71381579,  0.65460526,  0.63157895],\n",
       "       [ 2.85526316,  2.61842105,  2.52631579],\n",
       "       [ 1.78453947,  1.63651316,  1.57894737],\n",
       "       [ 0.71381579,  0.65460526,  0.63157895],\n",
       "       [ 0.71381579,  0.65460526,  0.63157895],\n",
       "       [ 1.07072368,  0.98190789,  0.94736842],\n",
       "       [ 2.14144737,  1.96381579,  1.89473684],\n",
       "       [ 3.21217105,  2.94572368,  2.84210526],\n",
       "       [ 1.42763158,  1.30921053,  1.26315789],\n",
       "       [ 4.99671053,  4.58223684,  4.42105263],\n",
       "       [ 1.78453947,  1.63651316,  1.57894737],\n",
       "       [ 0.71381579,  0.65460526,  0.63157895],\n",
       "       [ 1.78453947,  1.63651316,  1.57894737],\n",
       "       [ 0.71381579,  0.65460526,  0.63157895],\n",
       "       [ 1.07072368,  0.98190789,  0.94736842],\n",
       "       [ 0.71381579,  0.65460526,  0.63157895],\n",
       "       [ 1.07072368,  0.98190789,  0.94736842],\n",
       "       [ 3.21217105,  2.94572368,  2.84210526],\n",
       "       [ 1.78453947,  1.63651316,  1.57894737],\n",
       "       [ 4.28289474,  3.92763158,  3.78947368],\n",
       "       [ 1.07072368,  0.98190789,  0.94736842],\n",
       "       [ 1.07072368,  0.98190789,  0.94736842],\n",
       "       [ 1.07072368,  0.98190789,  0.94736842],\n",
       "       [ 7.13815789,  6.54605263,  6.31578947],\n",
       "       [ 0.71381579,  0.65460526,  0.63157895],\n",
       "       [ 0.71381579,  0.65460526,  0.63157895],\n",
       "       [ 1.42763158,  1.30921053,  1.26315789],\n",
       "       [ 3.92598684,  3.60032895,  3.47368421],\n",
       "       [ 0.71381579,  0.65460526,  0.63157895],\n",
       "       [ 2.14144737,  1.96381579,  1.89473684],\n",
       "       [ 2.14144737,  1.96381579,  1.89473684],\n",
       "       [ 2.85526316,  2.61842105,  2.52631579],\n",
       "       [ 1.78453947,  1.63651316,  1.57894737],\n",
       "       [ 1.07072368,  0.98190789,  0.94736842],\n",
       "       [ 0.71381579,  0.65460526,  0.63157895],\n",
       "       [ 0.71381579,  0.65460526,  0.63157895],\n",
       "       [ 0.71381579,  0.65460526,  0.63157895],\n",
       "       [ 2.14144737,  1.96381579,  1.89473684],\n",
       "       [ 4.99671053,  4.58223684,  4.42105263],\n",
       "       [ 0.71381579,  0.65460526,  0.63157895],\n",
       "       [ 0.71381579,  0.65460526,  0.63157895],\n",
       "       [ 1.42763158,  1.30921053,  1.26315789],\n",
       "       [ 0.71381579,  0.65460526,  0.63157895],\n",
       "       [ 1.07072368,  0.98190789,  0.94736842],\n",
       "       [ 1.78453947,  1.63651316,  1.57894737],\n",
       "       [ 0.71381579,  0.65460526,  0.63157895],\n",
       "       [ 1.42763158,  1.30921053,  1.26315789],\n",
       "       [ 2.49835526,  2.29111842,  2.21052632],\n",
       "       [10.35032895,  9.49177632,  9.15789474],\n",
       "       [ 6.78125   ,  6.21875   ,  6.        ],\n",
       "       [ 0.71381579,  0.65460526,  0.63157895],\n",
       "       [ 2.14144737,  1.96381579,  1.89473684],\n",
       "       [ 0.71381579,  0.65460526,  0.63157895],\n",
       "       [ 1.07072368,  0.98190789,  0.94736842],\n",
       "       [ 3.56907895,  3.27302632,  3.15789474],\n",
       "       [ 3.21217105,  2.94572368,  2.84210526],\n",
       "       [ 1.07072368,  0.98190789,  0.94736842],\n",
       "       [ 6.42434211,  5.89144737,  5.68421053],\n",
       "       [ 7.49506579,  6.87335526,  6.63157895],\n",
       "       [ 1.07072368,  0.98190789,  0.94736842],\n",
       "       [ 0.71381579,  0.65460526,  0.63157895],\n",
       "       [10.35032895,  9.49177632,  9.15789474],\n",
       "       [ 0.71381579,  0.65460526,  0.63157895],\n",
       "       [ 2.49835526,  2.29111842,  2.21052632],\n",
       "       [ 1.42763158,  1.30921053,  1.26315789],\n",
       "       [ 2.14144737,  1.96381579,  1.89473684],\n",
       "       [ 0.71381579,  0.65460526,  0.63157895],\n",
       "       [ 0.71381579,  0.65460526,  0.63157895],\n",
       "       [ 0.71381579,  0.65460526,  0.63157895],\n",
       "       [ 2.14144737,  1.96381579,  1.89473684],\n",
       "       [ 1.78453947,  1.63651316,  1.57894737],\n",
       "       [ 5.35361842,  4.90953947,  4.73684211],\n",
       "       [ 1.07072368,  0.98190789,  0.94736842],\n",
       "       [ 1.42763158,  1.30921053,  1.26315789],\n",
       "       [ 1.42763158,  1.30921053,  1.26315789],\n",
       "       [ 0.71381579,  0.65460526,  0.63157895],\n",
       "       [ 1.07072368,  0.98190789,  0.94736842],\n",
       "       [ 0.71381579,  0.65460526,  0.63157895],\n",
       "       [ 1.07072368,  0.98190789,  0.94736842],\n",
       "       [ 1.07072368,  0.98190789,  0.94736842],\n",
       "       [ 2.14144737,  1.96381579,  1.89473684],\n",
       "       [ 1.78453947,  1.63651316,  1.57894737],\n",
       "       [14.99013158, 13.74671053, 13.26315789],\n",
       "       [ 1.07072368,  0.98190789,  0.94736842],\n",
       "       [ 1.07072368,  0.98190789,  0.94736842],\n",
       "       [ 2.14144737,  1.96381579,  1.89473684]]))"
      ]
     },
     "execution_count": 31,
     "metadata": {},
     "output_type": "execute_result"
    }
   ],
   "source": [
    "stats.chi2_contingency(crosstab)"
   ]
  },
  {
   "cell_type": "code",
   "execution_count": 32,
   "id": "23198e8c",
   "metadata": {},
   "outputs": [
    {
     "data": {
      "text/html": [
       "<div>\n",
       "<style scoped>\n",
       "    .dataframe tbody tr th:only-of-type {\n",
       "        vertical-align: middle;\n",
       "    }\n",
       "\n",
       "    .dataframe tbody tr th {\n",
       "        vertical-align: top;\n",
       "    }\n",
       "\n",
       "    .dataframe thead th {\n",
       "        text-align: right;\n",
       "    }\n",
       "</style>\n",
       "<table border=\"1\" class=\"dataframe\">\n",
       "  <thead>\n",
       "    <tr style=\"text-align: right;\">\n",
       "      <th>position</th>\n",
       "      <th>X</th>\n",
       "      <th>Y</th>\n",
       "      <th>Z</th>\n",
       "    </tr>\n",
       "    <tr>\n",
       "      <th>glyph</th>\n",
       "      <th></th>\n",
       "      <th></th>\n",
       "      <th></th>\n",
       "    </tr>\n",
       "  </thead>\n",
       "  <tbody>\n",
       "    <tr>\n",
       "      <th>1</th>\n",
       "      <td>1</td>\n",
       "      <td>1</td>\n",
       "      <td>0</td>\n",
       "    </tr>\n",
       "    <tr>\n",
       "      <th>522f</th>\n",
       "      <td>1</td>\n",
       "      <td>1</td>\n",
       "      <td>0</td>\n",
       "    </tr>\n",
       "    <tr>\n",
       "      <th>95</th>\n",
       "      <td>0</td>\n",
       "      <td>3</td>\n",
       "      <td>0</td>\n",
       "    </tr>\n",
       "    <tr>\n",
       "      <th>532.6</th>\n",
       "      <td>0</td>\n",
       "      <td>2</td>\n",
       "      <td>0</td>\n",
       "    </tr>\n",
       "    <tr>\n",
       "      <th>532.999</th>\n",
       "      <td>0</td>\n",
       "      <td>2</td>\n",
       "      <td>0</td>\n",
       "    </tr>\n",
       "    <tr>\n",
       "      <th>...</th>\n",
       "      <td>...</td>\n",
       "      <td>...</td>\n",
       "      <td>...</td>\n",
       "    </tr>\n",
       "    <tr>\n",
       "      <th>700</th>\n",
       "      <td>11</td>\n",
       "      <td>4</td>\n",
       "      <td>6</td>\n",
       "    </tr>\n",
       "    <tr>\n",
       "      <th>27</th>\n",
       "      <td>5</td>\n",
       "      <td>2</td>\n",
       "      <td>7</td>\n",
       "    </tr>\n",
       "    <tr>\n",
       "      <th>76</th>\n",
       "      <td>2</td>\n",
       "      <td>2</td>\n",
       "      <td>11</td>\n",
       "    </tr>\n",
       "    <tr>\n",
       "      <th>600</th>\n",
       "      <td>2</td>\n",
       "      <td>10</td>\n",
       "      <td>17</td>\n",
       "    </tr>\n",
       "    <tr>\n",
       "      <th>90</th>\n",
       "      <td>24</td>\n",
       "      <td>0</td>\n",
       "      <td>18</td>\n",
       "    </tr>\n",
       "  </tbody>\n",
       "</table>\n",
       "<p>95 rows × 3 columns</p>\n",
       "</div>"
      ],
      "text/plain": [
       "position   X   Y   Z\n",
       "glyph               \n",
       "1          1   1   0\n",
       "522f       1   1   0\n",
       "95         0   3   0\n",
       "532.6      0   2   0\n",
       "532.999    0   2   0\n",
       "...       ..  ..  ..\n",
       "700       11   4   6\n",
       "27         5   2   7\n",
       "76         2   2  11\n",
       "600        2  10  17\n",
       "90        24   0  18\n",
       "\n",
       "[95 rows x 3 columns]"
      ]
     },
     "execution_count": 32,
     "metadata": {},
     "output_type": "execute_result"
    }
   ],
   "source": [
    "crosstab.sort_values(by='Z')"
   ]
  }
 ],
 "metadata": {
  "kernelspec": {
   "display_name": "Python 3 (ipykernel)",
   "language": "python",
   "name": "python3"
  },
  "language_info": {
   "codemirror_mode": {
    "name": "ipython",
    "version": 3
   },
   "file_extension": ".py",
   "mimetype": "text/x-python",
   "name": "python",
   "nbconvert_exporter": "python",
   "pygments_lexer": "ipython3",
   "version": "3.10.12"
  }
 },
 "nbformat": 4,
 "nbformat_minor": 5
}
