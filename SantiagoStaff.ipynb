{
 "cells": [
  {
   "cell_type": "code",
   "execution_count": 2,
   "id": "dd18fe26",
   "metadata": {},
   "outputs": [],
   "source": [
    "import json\n",
    "import os\n",
    "\n",
    "from src.collocations import get_bigram_collocations, get_trigram_collocations, get_similar_glyphs\n",
    "from src.discourse import plot_discourse\n",
    "from src.nearest_neighbor import analyze_glyphs, glyph_bound\n",
    "from src.processing import load_file, clean_lines, encode_lines, split_sequences\n",
    "from src.search import search_glyphs\n",
    "from src.segmentation import vectorize, get_distinctive_glyphs, plot_breakpoints, segment_text"
   ]
  },
  {
   "cell_type": "markdown",
   "id": "c0ca2f72",
   "metadata": {},
   "source": [
    "# Text I (Santiago Staff)"
   ]
  },
  {
   "cell_type": "markdown",
   "id": "b51979d0",
   "metadata": {},
   "source": [
    "### Data processing"
   ]
  },
  {
   "cell_type": "code",
   "execution_count": 19,
   "id": "7f84719c",
   "metadata": {},
   "outputs": [],
   "source": [
    "# Read the data, reencode to Horley (2021) and split the stanzas\n",
    "\n",
    "raw_I_data = load_file('data/I.csv')\n",
    "clean_I_data = clean_lines(raw_I_data)\n",
    "encoded_I_data = encode_lines(clean_I_data)\n",
    "_, sequences_I = split_sequences(encoded_I_data)"
   ]
  },
  {
   "cell_type": "markdown",
   "id": "44885bb6",
   "metadata": {},
   "source": [
    "### Glyph collocations"
   ]
  },
  {
   "cell_type": "code",
   "execution_count": 4,
   "id": "1d0eb70f",
   "metadata": {},
   "outputs": [
    {
     "data": {
      "text/plain": [
       "[(('600.6', '<76>'), 86.30998954252766),\n",
       " (('90', '<76>'), 80.69157604926488),\n",
       " (('430', '<76>'), 44.0694053644971),\n",
       " (('76', '<76>'), 18.062969050466),\n",
       " (('90.21', '<76>'), 14.891779069435712),\n",
       " (('1v', '<76>'), 14.556705531972124),\n",
       " (('633', '<76>'), 14.03404598112618),\n",
       " (('700', '<76>'), 13.335396136729994),\n",
       " (('99', '<76>'), 11.909502012641163),\n",
       " (('290.6', '<76>'), 11.162991146924597),\n",
       " (('<76>', '532'), 79.579052739205),\n",
       " (('<76>', '11'), 55.05459105649753),\n",
       " (('<76>', '71'), 54.79019222974357),\n",
       " (('<76>', '70'), 43.15166140418751),\n",
       " (('<76>', '75'), 27.425894654315442),\n",
       " (('<76>', '4f'), 25.03275083355652),\n",
       " (('<76>', '10.79f'), 20.40770816154103),\n",
       " (('<76>', '57'), 18.624479779816035),\n",
       " (('<76>', '2a.10'), 18.17225933093974),\n",
       " (('<76>', '6'), 18.17225933093974),\n",
       " (('600', '</s>'), 30.48681769231336),\n",
       " (('90', '</s>'), 17.832184933143072),\n",
       " (('59', '</s>'), 15.905211780551396),\n",
       " (('2', '</s>'), 13.688962071210824),\n",
       " (('270.6', '</s>'), 10.920445049634374),\n",
       " (('200.10', '</s>'), 10.642884612208395),\n",
       " (('76', '</s>'), 9.241353483986078),\n",
       " (('27', '</s>'), 8.45794056242533),\n",
       " (('40.290', '</s>'), 7.438105577113687),\n",
       " (('513', '</s>'), 7.438105577113687)]"
      ]
     },
     "execution_count": 4,
     "metadata": {},
     "output_type": "execute_result"
    }
   ],
   "source": [
    "# Most likely collocations respective to glyph 76\n",
    "\n",
    "bigrams_I = get_bigram_collocations(sequences_I)\n",
    "bigrams_I"
   ]
  },
  {
   "cell_type": "code",
   "execution_count": 5,
   "id": "780e9663",
   "metadata": {},
   "outputs": [
    {
     "data": {
      "text/plain": [
       "[(('90', '<76>'), 49),\n",
       " (('600.6', '<76>'), 29),\n",
       " (('430', '<76>'), 27),\n",
       " (('76', '<76>'), 22),\n",
       " (('700', '<76>'), 16),\n",
       " (('1v', '<76>'), 12),\n",
       " (('71', '<76>'), 12),\n",
       " (('2', '<76>'), 10),\n",
       " (('200.10', '<76>'), 9),\n",
       " (('451', '<76>'), 7),\n",
       " (('<76>', '71'), 33),\n",
       " (('<76>', '532'), 30),\n",
       " (('<76>', '70'), 21),\n",
       " (('<76>', '11'), 21),\n",
       " (('<76>', '600'), 14),\n",
       " (('<76>', '4f'), 11),\n",
       " (('<76>', '6'), 10),\n",
       " (('<76>', '2a.10'), 10),\n",
       " (('<76>', '75'), 9),\n",
       " (('<76>', '430'), 8),\n",
       " (('90', '</s>'), 29),\n",
       " (('600', '</s>'), 24),\n",
       " (('76', '</s>'), 18),\n",
       " (('2', '</s>'), 14),\n",
       " (('700', '</s>'), 13),\n",
       " (('200.10', '</s>'), 9),\n",
       " (('59', '</s>'), 8),\n",
       " (('27', '</s>'), 8),\n",
       " (('430', '</s>'), 8),\n",
       " (('670', '</s>'), 7)]"
      ]
     },
     "execution_count": 5,
     "metadata": {},
     "output_type": "execute_result"
    }
   ],
   "source": [
    "# Most frequent collocations respective to glyph 76\n",
    "\n",
    "bigrams_I_frequency = get_bigram_collocations(sequences_I, measure=\"frequency\")\n",
    "bigrams_I_frequency"
   ]
  },
  {
   "cell_type": "code",
   "execution_count": 9,
   "id": "6581240f",
   "metadata": {},
   "outputs": [
    {
     "data": {
      "text/plain": [
       "[(('600.6', '<76>', '532'), 167.7774733389341),\n",
       " (('90', '<76>', '532'), 161.26209703734247),\n",
       " (('90', '<76>', '71'), 136.74940260245918),\n",
       " (('90', '<76>', '11'), 136.09630230902766),\n",
       " (('600.6', '<76>', '70'), 133.339366361156),\n",
       " (('90', '<76>', '70'), 131.9021456495934),\n",
       " (('430', '<76>', '532'), 125.98603717421119),\n",
       " (('90', '<76>', '21.1'), 113.3689179406339),\n",
       " (('600.6', '<76>', '71.61'), 104.72150834586526),\n",
       " (('90', '<76>', '57'), 102.09305501814285)]"
      ]
     },
     "execution_count": 9,
     "metadata": {},
     "output_type": "execute_result"
    }
   ],
   "source": [
    "# Most likely associations of the first two stanza glyphs\n",
    "\n",
    "trigrams_I = get_trigram_collocations(sequences_I)\n",
    "trigrams_I"
   ]
  },
  {
   "cell_type": "code",
   "execution_count": 10,
   "id": "2668aafc",
   "metadata": {},
   "outputs": [
    {
     "data": {
      "text/plain": [
       "[(('90', '<76>', '70'), 7),\n",
       " (('755', '<76>', '75'), 5),\n",
       " (('90', '<76>', '71'), 5),\n",
       " (('430', '<76>', '532'), 4),\n",
       " (('90', '<76>', '21.1'), 4),\n",
       " (('600.6', '<76>', '70'), 4),\n",
       " (('71', '<76>', '10.79f'), 4),\n",
       " (('600.6', '<76>', '532'), 4),\n",
       " (('200.10', '<76>', '71'), 4),\n",
       " (('721', '<76>', '70'), 3)]"
      ]
     },
     "execution_count": 10,
     "metadata": {},
     "output_type": "execute_result"
    }
   ],
   "source": [
    "# Most frequent associations of the first two stanza glyphs\n",
    "\n",
    "trigrams_I_frequency = get_trigram_collocations(sequences_I, measure=\"frequency\")\n",
    "trigrams_I_frequency"
   ]
  },
  {
   "cell_type": "code",
   "execution_count": 11,
   "id": "4bcfc01d",
   "metadata": {},
   "outputs": [
    {
     "data": {
      "text/plain": [
       "{'XYX': 0.045871559633027525,\n",
       " 'XXZ': 0.04357798165137615,\n",
       " 'XYY': 0.027522935779816515}"
      ]
     },
     "execution_count": 11,
     "metadata": {},
     "output_type": "execute_result"
    }
   ],
   "source": [
    "# Percentage of stanzas that show some repetition\n",
    "# of the same glyph in different positions\n",
    "\n",
    "_, percentages_I = get_similar_glyphs(sequences_I)\n",
    "percentages_I"
   ]
  },
  {
   "cell_type": "markdown",
   "id": "408ad5d9",
   "metadata": {},
   "source": [
    "### Text segmentation"
   ]
  },
  {
   "cell_type": "code",
   "execution_count": 12,
   "id": "2c2060fc",
   "metadata": {},
   "outputs": [
    {
     "data": {
      "image/png": "[encoded data removed]",
      "text/plain": [
       "<Figure size 432x288 with 2 Axes>"
      ]
     },
     "metadata": {
      "needs_background": "light"
     },
     "output_type": "display_data"
    }
   ],
   "source": [
    "# Vectorize the whole text using count vectorizer and\n",
    "# plot the segments based on cosine distance using one\n",
    "# and two breakpoints\n",
    "\n",
    "vectorized_text, _ = vectorize(encoded_I_data)\n",
    "bkpts = plot_breakpoints(vectorized_text, [1, 2])"
   ]
  },
  {
   "cell_type": "code",
   "execution_count": 15,
   "id": "827aff1e",
   "metadata": {},
   "outputs": [
    {
     "data": {
      "text/plain": [
       "[['600', '76', '430', '430.76', '90', '532', '90.76', '700.76', '75', '700'],\n",
       " ['90.76', '71', '11', '76', '532', '600.6.76', '600', '90', '70', '2a.10']]"
      ]
     },
     "execution_count": 15,
     "metadata": {},
     "output_type": "execute_result"
    }
   ],
   "source": [
    "# Most distinctive glyphs of each segment using TF-IDF\n",
    "\n",
    "segmented_text = segment_text(encoded_I_data, bkpts[0])\n",
    "distinctive_glyphs = get_distinctive_glyphs(segmented_text)\n",
    "distinctive_glyphs"
   ]
  },
  {
   "cell_type": "markdown",
   "id": "fad731e8",
   "metadata": {},
   "source": [
    "### Glyph distribution"
   ]
  },
  {
   "cell_type": "code",
   "execution_count": 16,
   "id": "c31484ee",
   "metadata": {},
   "outputs": [
    {
     "data": {
      "image/png": "[encoded data removed]",
      "text/plain": [
       "<Figure size 576x432 with 1 Axes>"
      ]
     },
     "metadata": {
      "needs_background": "light"
     },
     "output_type": "display_data"
    }
   ],
   "source": [
    "# Glyphs that show significant clustering in their distribution\n",
    "# within the text\n",
    "\n",
    "clustered_glyphs, _ = analyze_glyphs(encoded_I_data)\n",
    "plot_discourse(clustered_glyphs, encoded_I_data, bkpt=bkpts[0][0])"
   ]
  },
  {
   "cell_type": "code",
   "execution_count": 17,
   "id": "71246dfc",
   "metadata": {},
   "outputs": [
    {
     "data": {
      "image/png": "[encoded data removed]",
      "text/plain": [
       "<Figure size 576x432 with 1 Axes>"
      ]
     },
     "metadata": {
      "needs_background": "light"
     },
     "output_type": "display_data"
    }
   ],
   "source": [
    "# Distribution of the most likely/frequent associations between\n",
    "# the first two stanza glyphs\n",
    "\n",
    "trigrams_formatted = [[f'{trigram[0][0]}.76', trigram[0][2]] for trigram in trigrams_I]\n",
    "for trigram in trigrams_I_frequency:\n",
    "    if [f'{trigram[0][0]}.76', trigram[0][2]] not in trigrams_formatted:\n",
    "        trigrams_formatted.append([f'{trigram[0][0]}.76', trigram[0][2]])\n",
    "trigrams_sorted = sorted(trigrams_formatted, key=lambda x: glyph_bound(x, encoded_I_data))\n",
    "plot_discourse(trigrams_sorted, encoded_I_data, bkpt=bkpts[0][0])"
   ]
  },
  {
   "cell_type": "markdown",
   "id": "d4089197",
   "metadata": {},
   "source": [
    "### Matches outside of text I"
   ]
  },
  {
   "cell_type": "code",
   "execution_count": 18,
   "id": "b5623a7a",
   "metadata": {},
   "outputs": [
    {
     "data": {
      "text/plain": [
       "{'9 2': ['Sb8'],\n",
       " '381.6 11': ['Aa8'],\n",
       " '700 381': ['Qr6', 'Er8'],\n",
       " '430 48f': ['Pv7'],\n",
       " '430 5': ['Ab3'],\n",
       " '90 71': ['Ev2'],\n",
       " '90 5': ['Pv1', 'Qv2', 'Hr11'],\n",
       " '600.6 600': ['Cb2'],\n",
       " '90 70': ['Sb8', 'Aa2'],\n",
       " '90 11': ['Aa2']}"
      ]
     },
     "execution_count": 18,
     "metadata": {},
     "output_type": "execute_result"
    }
   ],
   "source": [
    "# Search the corpus for combinations of the first two stanza glyphs\n",
    "# occuring more than once\n",
    "\n",
    "XY = [(seq[0], seq[2]) for seq in sequences_I if '?' not in seq[0] and '?' not in seq[2]]\n",
    "XY = [glyphs for glyphs in set(XY) if XY.count(glyphs) > 1]\n",
    "search_results = search_glyphs(XY)\n",
    "search_results"
   ]
  },
  {
   "cell_type": "markdown",
   "id": "1e66e94f",
   "metadata": {},
   "source": [
    "# Text Gv (verso of Small Santiago Tablet)"
   ]
  },
  {
   "cell_type": "markdown",
   "id": "5f41cb82",
   "metadata": {},
   "source": [
    "### Data processing"
   ]
  },
  {
   "cell_type": "code",
   "execution_count": 21,
   "id": "a2396e48",
   "metadata": {},
   "outputs": [],
   "source": [
    "raw_Gv_data = load_file('data/Gv.csv')\n",
    "clean_Gv_data = clean_lines(raw_Gv_data)\n",
    "encoded_Gv_data = encode_lines(clean_Gv_data)\n",
    "_, sequences_Gv = split_sequences(encoded_Gv_data)"
   ]
  },
  {
   "cell_type": "markdown",
   "id": "a9dbdb18",
   "metadata": {},
   "source": [
    "### Glyph collocations"
   ]
  },
  {
   "cell_type": "code",
   "execution_count": 22,
   "id": "25d47615",
   "metadata": {},
   "outputs": [
    {
     "data": {
      "text/plain": [
       "[(('430', '<76>'), 10.304570821078993),\n",
       " (('660', '<76>'), 8.628683760603025),\n",
       " (('670', '<76>'), 5.048451138739251),\n",
       " (('5', '<76>'), 2.6179993043408443),\n",
       " (('<76>', '200f'), 17.494269243720588),\n",
       " (('<76>', '70'), 8.628683760603025),\n",
       " (('32', '</s>'), 8.763398730209968),\n",
       " (('90f', '</s>'), 8.628683760603025),\n",
       " (('59f', '</s>'), 5.048451138739251),\n",
       " (('22', '</s>'), 3.5621668788614578)]"
      ]
     },
     "execution_count": 22,
     "metadata": {},
     "output_type": "execute_result"
    }
   ],
   "source": [
    "# Most likely collocations respective to glyph 76\n",
    "\n",
    "bigrams_Gv = get_bigram_collocations(sequences_Gv)\n",
    "bigrams_Gv"
   ]
  },
  {
   "cell_type": "code",
   "execution_count": 23,
   "id": "409870a4",
   "metadata": {},
   "outputs": [
    {
     "data": {
      "text/plain": [
       "{'XYX': 0.21875, 'XXZ': 0.0625, 'XYY': 0.09375}"
      ]
     },
     "execution_count": 23,
     "metadata": {},
     "output_type": "execute_result"
    }
   ],
   "source": [
    "# Percentage of stanzas that show some repetition\n",
    "# of the same glyph in different positions\n",
    "\n",
    "_, percentages_Gv = get_similar_glyphs(sequences_Gv)\n",
    "percentages_Gv"
   ]
  },
  {
   "cell_type": "markdown",
   "id": "3dd0cd72",
   "metadata": {},
   "source": [
    "# Text T (Honolulu Tablet)"
   ]
  },
  {
   "cell_type": "markdown",
   "id": "d8d7c7cb",
   "metadata": {},
   "source": [
    "### Data processing"
   ]
  },
  {
   "cell_type": "code",
   "execution_count": 25,
   "id": "503b6793",
   "metadata": {},
   "outputs": [],
   "source": [
    "raw_T_data = load_file('data/T.csv')\n",
    "clean_T_data = clean_lines(raw_T_data)\n",
    "encoded_T_data = encode_lines(clean_T_data)\n",
    "_, sequences_T = split_sequences(encoded_T_data)"
   ]
  },
  {
   "cell_type": "markdown",
   "id": "fac338d6",
   "metadata": {},
   "source": [
    "### Glyph collocations"
   ]
  },
  {
   "cell_type": "code",
   "execution_count": 26,
   "id": "f945678e",
   "metadata": {},
   "outputs": [
    {
     "data": {
      "text/plain": [
       "[(('430', '<76>'), 4.678702588007328),\n",
       " (('<76>', '532'), 8.024679218708592),\n",
       " (('<76>', '70'), 4.476845027126553),\n",
       " (('<76>', '430'), 1.4889447439826093)]"
      ]
     },
     "execution_count": 26,
     "metadata": {},
     "output_type": "execute_result"
    }
   ],
   "source": [
    "# Most likely collocations respective to glyph 76\n",
    "\n",
    "bigrams_T = get_bigram_collocations(sequences_T)\n",
    "bigrams_T"
   ]
  }
 ],
 "metadata": {
  "kernelspec": {
   "display_name": "Python 3 (ipykernel)",
   "language": "python",
   "name": "python3"
  },
  "language_info": {
   "codemirror_mode": {
    "name": "ipython",
    "version": 3
   },
   "file_extension": ".py",
   "mimetype": "text/x-python",
   "name": "python",
   "nbconvert_exporter": "python",
   "pygments_lexer": "ipython3",
   "version": "3.10.12"
  }
 },
 "nbformat": 4,
 "nbformat_minor": 5
}
